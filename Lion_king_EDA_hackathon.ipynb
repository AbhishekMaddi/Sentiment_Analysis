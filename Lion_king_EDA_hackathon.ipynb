{
 "cells": [
  {
   "cell_type": "code",
   "execution_count": 0,
   "metadata": {
    "colab": {},
    "colab_type": "code",
    "id": "28VTRGSCBzSr"
   },
   "outputs": [],
   "source": [
    "# necessary imports\n",
    "\n",
    "import requests\n",
    "import time\n",
    "import pandas as pd\n",
    "import numpy as np\n",
    "import sklearn \n",
    "from matplotlib import pyplot\n",
    "import seaborn"
   ]
  },
  {
   "cell_type": "markdown",
   "metadata": {
    "colab_type": "text",
    "id": "l8hSjcp2YM8Q"
   },
   "source": [
    "# Task 1: Reading necessary fields"
   ]
  },
  {
   "cell_type": "code",
   "execution_count": 0,
   "metadata": {
    "colab": {},
    "colab_type": "code",
    "id": "iFYZAycZCBEJ"
   },
   "outputs": [],
   "source": [
    "# configuration\n",
    "\n",
    "headers = {\n",
    "'Referer': 'https://www.rottentomatoes.com/m/the_lion_king_2019/reviews?type=user', \\\n",
    "    'User-Agent': 'Mozilla/5.0 (Windows NT 10.0; Win64; x64) AppleWebKit/537.36 (KHTML, like \\\n",
    "Gecko) Chrome/74.0.3729.108 Safari/537.36', 'X-Requested-With': 'XMLHttpRequest'}\n",
    "\n",
    "url = 'https://www.rottentomatoes.com/napi/movie/9057c2cf-7cab-317f-876f-e50b245ca76e/reviews/user'\n",
    "\n",
    "payload = { 'direction': 'next', 'endCursor': '', 'startCursor': '' }\n"
   ]
  },
  {
   "cell_type": "code",
   "execution_count": 0,
   "metadata": {
    "colab": {},
    "colab_type": "code",
    "id": "Zea3o8SQPyzq"
   },
   "outputs": [],
   "source": [
    "# to take out endCursor\n",
    "\n",
    "payload = { 'direction': 'next', 'endCursor': '', 'startCursor': '' }\n",
    "s = requests.Session()\n",
    "r = s.get(url, headers=headers, params=payload) # GET Call \n",
    "data = r.json()"
   ]
  },
  {
   "cell_type": "code",
   "execution_count": 0,
   "metadata": {
    "colab": {
     "base_uri": "https://localhost:8080/",
     "height": 215
    },
    "colab_type": "code",
    "id": "NSdu-4C7-SRK",
    "outputId": "6f8440c9-c39a-4aca-e08b-466ab9178d4b"
   },
   "outputs": [
    {
     "ename": "KeyboardInterrupt",
     "evalue": "ignored",
     "output_type": "error",
     "traceback": [
      "\u001b[0;31m---------------------------------------------------------------------------\u001b[0m",
      "\u001b[0;31mKeyboardInterrupt\u001b[0m                         Traceback (most recent call last)",
      "\u001b[0;32m<ipython-input-5-ccaaa5d3c941>\u001b[0m in \u001b[0;36m<module>\u001b[0;34m()\u001b[0m\n\u001b[1;32m     25\u001b[0m   \u001b[0mdf\u001b[0m \u001b[0;34m=\u001b[0m \u001b[0mpd\u001b[0m\u001b[0;34m.\u001b[0m\u001b[0mDataFrame\u001b[0m\u001b[0;34m(\u001b[0m\u001b[0mdf\u001b[0m\u001b[0;34m)\u001b[0m\u001b[0;34m\u001b[0m\u001b[0;34m\u001b[0m\u001b[0m\n\u001b[1;32m     26\u001b[0m   \u001b[0mls\u001b[0m\u001b[0;34m.\u001b[0m\u001b[0mappend\u001b[0m\u001b[0;34m(\u001b[0m\u001b[0mdf\u001b[0m\u001b[0;34m)\u001b[0m\u001b[0;34m\u001b[0m\u001b[0;34m\u001b[0m\u001b[0m\n\u001b[0;32m---> 27\u001b[0;31m   \u001b[0mtime\u001b[0m\u001b[0;34m.\u001b[0m\u001b[0msleep\u001b[0m\u001b[0;34m(\u001b[0m\u001b[0;36m6\u001b[0m\u001b[0;34m)\u001b[0m\u001b[0;34m\u001b[0m\u001b[0;34m\u001b[0m\u001b[0m\n\u001b[0m\u001b[1;32m     28\u001b[0m \u001b[0;34m\u001b[0m\u001b[0m\n",
      "\u001b[0;31mKeyboardInterrupt\u001b[0m: "
     ]
    }
   ],
   "source": [
    "# getting the list of data frames in group of 10 reviews\n",
    "\n",
    "ls = []\n",
    "for i in range(300):\n",
    "  payload = { 'direction': 'next', 'endCursor': data['pageInfo']['endCursor'], 'startCursor': '' }\n",
    "  s = requests.Session()\n",
    "  r = s.get(url, headers=headers, params=payload) # GET Call \n",
    "  data = r.json()\n",
    "  a_list = []\n",
    "  b_list = []\n",
    "  c_list = []\n",
    "  d_list = []\n",
    "  e_list = []\n",
    "  for i in list(range(10)):\n",
    "      a = data['reviews'][i]['user']['userId']\n",
    "      b = data['reviews'][i]['displayName'] \n",
    "      c = data['reviews'][i]['review']\n",
    "      d = data['reviews'][i]['rating']\n",
    "      e = data['reviews'][i]['createDate']\n",
    "      a_list.append(a)\n",
    "      b_list.append(b)\n",
    "      c_list.append(c)\n",
    "      d_list.append(d)\n",
    "      e_list.append(e)\n",
    "  df = {'ReviewID':a_list, 'Reviewer-Name':b_list, 'Review':c_list, 'Rating':d_list, 'Date-of-Review':e_list}\n",
    "  df = pd.DataFrame(df)\n",
    "  ls.append(df)\n",
    "  time.sleep(6)\n",
    "  "
   ]
  },
  {
   "cell_type": "code",
   "execution_count": 0,
   "metadata": {
    "colab": {
     "base_uri": "https://localhost:8080/",
     "height": 374
    },
    "colab_type": "code",
    "id": "krhxG6B7ASR6",
    "outputId": "673b509e-abc5-49ca-9827-ad316bda09c0"
   },
   "outputs": [
    {
     "name": "stdout",
     "output_type": "stream",
     "text": [
      "data frame shape\n",
      "(200, 5)\n",
      "\n",
      "head of data frame\n",
      "                               ReviewID  ...            Date-of-Review\n",
      "0                             978211573  ...  2019-08-25T03:42:41.074Z\n",
      "1  51268651-4F59-4EE1-8548-532704C0720A  ...  2019-08-25T03:22:54.090Z\n",
      "2  763CAB90-6B31-49C4-82C8-6C792099CB0C  ...  2019-08-25T02:36:16.107Z\n",
      "3                             978094062  ...  2019-08-25T02:20:54.555Z\n",
      "4  1202B317-3151-4CBE-98E7-6E394402C153  ...  2019-08-25T02:01:17.569Z\n",
      "\n",
      "[5 rows x 5 columns]\n",
      "tail of data frame\n",
      "                                 ReviewID  ...            Date-of-Review\n",
      "195  8fed057b-99dc-4bce-aadf-15524e5c5f5e  ...  2019-08-22T05:07:52.011Z\n",
      "196  81c86526-04c4-438d-96f0-e7c33e1d2c73  ...  2019-08-22T05:01:02.623Z\n",
      "197  0D8F8858-85BB-458A-912D-12AC47CC64C6  ...  2019-08-22T04:31:50.318Z\n",
      "198  dd0555bc-0744-48f1-934e-b2b7452ee758  ...  2019-08-22T04:29:51.458Z\n",
      "199  cf3e3f18-cc48-4711-b11d-b602dd963155  ...  2019-08-22T04:21:32.347Z\n",
      "\n",
      "[5 rows x 5 columns]\n"
     ]
    }
   ],
   "source": [
    "# concating the generated data frames from step above\n",
    "\n",
    "df = pd.concat(ls, ignore_index = True)\n",
    "\n",
    "# checking the shape\n",
    "print('data frame shape\\n{}\\n'.format(df.shape))\n",
    "\n",
    "\n",
    "\n",
    "# checking the head and tail,\n",
    "print('head of data frame\\n{}'.format(df.head()))\n",
    "print('tail of data frame\\n{}'.format(df.tail()))\n"
   ]
  },
  {
   "cell_type": "markdown",
   "metadata": {
    "colab_type": "text",
    "id": "o4MpdMzwXGUm"
   },
   "source": [
    "Taken csv out and uploaded to google drive and reading from there "
   ]
  },
  {
   "cell_type": "code",
   "execution_count": 0,
   "metadata": {
    "colab": {
     "base_uri": "https://localhost:8080/",
     "height": 122
    },
    "colab_type": "code",
    "id": "6YLYN-NdKUEk",
    "outputId": "e3ff59c6-2369-4c26-9a16-689698143ecb"
   },
   "outputs": [
    {
     "name": "stdout",
     "output_type": "stream",
     "text": [
      "Go to this URL in a browser: https://accounts.google.com/o/oauth2/auth?client_id=947318989803-6bn6qk8qdgf4n4g3pfee6491hc0brc4i.apps.googleusercontent.com&redirect_uri=urn%3Aietf%3Awg%3Aoauth%3A2.0%3Aoob&scope=email%20https%3A%2F%2Fwww.googleapis.com%2Fauth%2Fdocs.test%20https%3A%2F%2Fwww.googleapis.com%2Fauth%2Fdrive%20https%3A%2F%2Fwww.googleapis.com%2Fauth%2Fdrive.photos.readonly%20https%3A%2F%2Fwww.googleapis.com%2Fauth%2Fpeopleapi.readonly&response_type=code\n",
      "\n",
      "Enter your authorization code:\n",
      "··········\n",
      "Mounted at /content/drive\n"
     ]
    }
   ],
   "source": [
    "from google.colab import drive\n",
    "drive.mount('/content/drive')"
   ]
  },
  {
   "cell_type": "code",
   "execution_count": 0,
   "metadata": {
    "colab": {},
    "colab_type": "code",
    "id": "3FlyypU4pCfF"
   },
   "outputs": [],
   "source": [
    "df = pd.read_csv('/content/drive/My Drive/INSOFE/Text_Mining/phd/filename.csv')"
   ]
  },
  {
   "cell_type": "code",
   "execution_count": 123,
   "metadata": {
    "colab": {
     "base_uri": "https://localhost:8080/",
     "height": 204
    },
    "colab_type": "code",
    "id": "GJjQLVgy_7Jv",
    "outputId": "d611822e-ce5d-46bc-b281-9ad042b00a1c"
   },
   "outputs": [
    {
     "data": {
      "text/html": [
       "<div>\n",
       "<style scoped>\n",
       "    .dataframe tbody tr th:only-of-type {\n",
       "        vertical-align: middle;\n",
       "    }\n",
       "\n",
       "    .dataframe tbody tr th {\n",
       "        vertical-align: top;\n",
       "    }\n",
       "\n",
       "    .dataframe thead th {\n",
       "        text-align: right;\n",
       "    }\n",
       "</style>\n",
       "<table border=\"1\" class=\"dataframe\">\n",
       "  <thead>\n",
       "    <tr style=\"text-align: right;\">\n",
       "      <th></th>\n",
       "      <th>Unnamed: 0</th>\n",
       "      <th>ReviewID</th>\n",
       "      <th>Reviewer-Name</th>\n",
       "      <th>Review</th>\n",
       "      <th>Rating</th>\n",
       "      <th>Date-of-Review</th>\n",
       "    </tr>\n",
       "  </thead>\n",
       "  <tbody>\n",
       "    <tr>\n",
       "      <th>0</th>\n",
       "      <td>0</td>\n",
       "      <td>978203293</td>\n",
       "      <td>Alexander G</td>\n",
       "      <td>Didn't make me feel anything unlike the original.</td>\n",
       "      <td>STAR_3</td>\n",
       "      <td>2019-08-18T04:35:16.243Z</td>\n",
       "    </tr>\n",
       "    <tr>\n",
       "      <th>1</th>\n",
       "      <td>1</td>\n",
       "      <td>8ce21b61-d2b1-453e-ab78-fe0ba06088d5</td>\n",
       "      <td>Lori</td>\n",
       "      <td>Well done! A great way to redo a classic. It f...</td>\n",
       "      <td>STAR_5</td>\n",
       "      <td>2019-08-18T04:10:11.153Z</td>\n",
       "    </tr>\n",
       "    <tr>\n",
       "      <th>2</th>\n",
       "      <td>2</td>\n",
       "      <td>4e4abb87-64d4-4f65-8673-8e0b9b612c1b</td>\n",
       "      <td>Tim stoeckle</td>\n",
       "      <td>Good movie.  Just that the original animated w...</td>\n",
       "      <td>STAR_4</td>\n",
       "      <td>2019-08-18T03:39:22.555Z</td>\n",
       "    </tr>\n",
       "    <tr>\n",
       "      <th>3</th>\n",
       "      <td>3</td>\n",
       "      <td>C211508E-B600-44E0-A289-C43EEDF30831</td>\n",
       "      <td>Sheena</td>\n",
       "      <td>I didn’t like Beyoncé being nala. Bad acting. ...</td>\n",
       "      <td>STAR_3</td>\n",
       "      <td>2019-08-18T03:28:50.700Z</td>\n",
       "    </tr>\n",
       "    <tr>\n",
       "      <th>4</th>\n",
       "      <td>4</td>\n",
       "      <td>9c220502-046b-4b98-a0d1-ad271ed611f8</td>\n",
       "      <td>Marsha C</td>\n",
       "      <td>Such a beautiful story. We've loved the animat...</td>\n",
       "      <td>STAR_5</td>\n",
       "      <td>2019-08-18T03:25:45.583Z</td>\n",
       "    </tr>\n",
       "  </tbody>\n",
       "</table>\n",
       "</div>"
      ],
      "text/plain": [
       "   Unnamed: 0  ...            Date-of-Review\n",
       "0           0  ...  2019-08-18T04:35:16.243Z\n",
       "1           1  ...  2019-08-18T04:10:11.153Z\n",
       "2           2  ...  2019-08-18T03:39:22.555Z\n",
       "3           3  ...  2019-08-18T03:28:50.700Z\n",
       "4           4  ...  2019-08-18T03:25:45.583Z\n",
       "\n",
       "[5 rows x 6 columns]"
      ]
     },
     "execution_count": 123,
     "metadata": {
      "tags": []
     },
     "output_type": "execute_result"
    }
   ],
   "source": [
    "df.head()"
   ]
  },
  {
   "cell_type": "markdown",
   "metadata": {
    "colab_type": "text",
    "id": "cmmUVdccZkvQ"
   },
   "source": [
    "# Verifying data"
   ]
  },
  {
   "cell_type": "code",
   "execution_count": 124,
   "metadata": {
    "colab": {
     "base_uri": "https://localhost:8080/",
     "height": 68
    },
    "colab_type": "code",
    "id": "Ilgfp7Ogj7yV",
    "outputId": "bd633105-67d2-4d7e-d0f3-0975d715d162"
   },
   "outputs": [
    {
     "name": "stdout",
     "output_type": "stream",
     "text": [
      "number of duplicate rows\n",
      "0\n",
      "\n"
     ]
    }
   ],
   "source": [
    "# checking duplicate rows, sanity check\n",
    "\n",
    "print('number of duplicate rows\\n{}\\n'.format(df.duplicated().sum()))"
   ]
  },
  {
   "cell_type": "code",
   "execution_count": 125,
   "metadata": {
    "colab": {
     "base_uri": "https://localhost:8080/",
     "height": 204
    },
    "colab_type": "code",
    "id": "qIc9WGWylC3P",
    "outputId": "c15be09a-05c6-4190-a799-419332b744bc"
   },
   "outputs": [
    {
     "data": {
      "text/html": [
       "<div>\n",
       "<style scoped>\n",
       "    .dataframe tbody tr th:only-of-type {\n",
       "        vertical-align: middle;\n",
       "    }\n",
       "\n",
       "    .dataframe tbody tr th {\n",
       "        vertical-align: top;\n",
       "    }\n",
       "\n",
       "    .dataframe thead th {\n",
       "        text-align: right;\n",
       "    }\n",
       "</style>\n",
       "<table border=\"1\" class=\"dataframe\">\n",
       "  <thead>\n",
       "    <tr style=\"text-align: right;\">\n",
       "      <th></th>\n",
       "      <th>Review</th>\n",
       "      <th>Rating</th>\n",
       "    </tr>\n",
       "  </thead>\n",
       "  <tbody>\n",
       "    <tr>\n",
       "      <th>0</th>\n",
       "      <td>Didn't make me feel anything unlike the original.</td>\n",
       "      <td>STAR_3</td>\n",
       "    </tr>\n",
       "    <tr>\n",
       "      <th>1</th>\n",
       "      <td>Well done! A great way to redo a classic. It f...</td>\n",
       "      <td>STAR_5</td>\n",
       "    </tr>\n",
       "    <tr>\n",
       "      <th>2</th>\n",
       "      <td>Good movie.  Just that the original animated w...</td>\n",
       "      <td>STAR_4</td>\n",
       "    </tr>\n",
       "    <tr>\n",
       "      <th>3</th>\n",
       "      <td>I didn’t like Beyoncé being nala. Bad acting. ...</td>\n",
       "      <td>STAR_3</td>\n",
       "    </tr>\n",
       "    <tr>\n",
       "      <th>4</th>\n",
       "      <td>Such a beautiful story. We've loved the animat...</td>\n",
       "      <td>STAR_5</td>\n",
       "    </tr>\n",
       "  </tbody>\n",
       "</table>\n",
       "</div>"
      ],
      "text/plain": [
       "                                              Review  Rating\n",
       "0  Didn't make me feel anything unlike the original.  STAR_3\n",
       "1  Well done! A great way to redo a classic. It f...  STAR_5\n",
       "2  Good movie.  Just that the original animated w...  STAR_4\n",
       "3  I didn’t like Beyoncé being nala. Bad acting. ...  STAR_3\n",
       "4  Such a beautiful story. We've loved the animat...  STAR_5"
      ]
     },
     "execution_count": 125,
     "metadata": {
      "tags": []
     },
     "output_type": "execute_result"
    }
   ],
   "source": [
    "# For sentiment analysis the import things are review and rating \n",
    "\n",
    "df2 = df.loc[:, ['Review', 'Rating']]\n",
    "df2.head()"
   ]
  },
  {
   "cell_type": "code",
   "execution_count": 126,
   "metadata": {
    "colab": {
     "base_uri": "https://localhost:8080/",
     "height": 187
    },
    "colab_type": "code",
    "id": "4uYbFMH8lbWj",
    "outputId": "8e562a68-2c6c-4ec8-ed6a-5aa9d03d0731"
   },
   "outputs": [
    {
     "name": "stdout",
     "output_type": "stream",
     "text": [
      "Number of NAs\n",
      "Review    0\n",
      "Rating    0\n",
      "dtype: int64\n",
      "\n",
      "dtypes of df2\n",
      "Review    object\n",
      "Rating    object\n",
      "dtype: object\n",
      "\n"
     ]
    }
   ],
   "source": [
    "# checking NAs\n",
    "\n",
    "print('Number of NAs\\n{}\\n'.format(df2.isna().sum()))\n",
    "\n",
    "# dtypes of df2 \n",
    "print('dtypes of df2\\n{}\\n'.format(df2.dtypes))\n",
    "  "
   ]
  },
  {
   "cell_type": "code",
   "execution_count": 127,
   "metadata": {
    "colab": {
     "base_uri": "https://localhost:8080/",
     "height": 51
    },
    "colab_type": "code",
    "id": "dGYs3pfeUW90",
    "outputId": "db5314c2-92d5-445e-938a-299734046c2c"
   },
   "outputs": [
    {
     "data": {
      "text/plain": [
       "array(['STAR_3', 'STAR_5', 'STAR_4', 'STAR_4_5', 'STAR_0_5', 'STAR_2',\n",
       "       'STAR_2_5', 'STAR_3_5', 'STAR_1_5', 'STAR_1'], dtype=object)"
      ]
     },
     "metadata": {
      "tags": []
     },
     "output_type": "display_data"
    }
   ],
   "source": [
    "# checking unique items in Rating to replace with a sentiment values\n",
    "\n",
    "display(df2.Rating.unique())"
   ]
  },
  {
   "cell_type": "markdown",
   "metadata": {
    "colab_type": "text",
    "id": "O47LDdEfYh6y"
   },
   "source": [
    "# Task 2: Labelling the review sentiment based on rating"
   ]
  },
  {
   "cell_type": "code",
   "execution_count": 0,
   "metadata": {
    "colab": {},
    "colab_type": "code",
    "id": "CQfpSzcEOxu5"
   },
   "outputs": [],
   "source": [
    "# replacing with sentiment values 0 as positive and 1 as negative, any review 3 and above are taking as positive\n",
    "\n",
    "sentiment = df2.replace({'Rating': {'STAR_3': 1, 'STAR_5': 0, 'STAR_4': 0, 'STAR_4_5': 0, 'STAR_3_5': 0,\\\n",
    "                        'STAR_0': 1, 'STAR_0_5': 1, 'STAR_1': 1, 'STAR_1_5': 1, 'STAR_2': 1, 'STAR_2_5': 1}})\n",
    "\n",
    "df2['sentiment'] = sentiment['Rating']\n",
    "\n",
    "# type conversions\n",
    "\n",
    "df2 = df2.astype({'Rating': 'category', 'Review': 'str', 'sentiment': 'int'})\n"
   ]
  },
  {
   "cell_type": "code",
   "execution_count": 129,
   "metadata": {
    "colab": {
     "base_uri": "https://localhost:8080/",
     "height": 204
    },
    "colab_type": "code",
    "id": "jWrWK70bP5TS",
    "outputId": "94638092-f1a9-4250-f1b0-9b04d44c7f39"
   },
   "outputs": [
    {
     "data": {
      "text/html": [
       "<div>\n",
       "<style scoped>\n",
       "    .dataframe tbody tr th:only-of-type {\n",
       "        vertical-align: middle;\n",
       "    }\n",
       "\n",
       "    .dataframe tbody tr th {\n",
       "        vertical-align: top;\n",
       "    }\n",
       "\n",
       "    .dataframe thead th {\n",
       "        text-align: right;\n",
       "    }\n",
       "</style>\n",
       "<table border=\"1\" class=\"dataframe\">\n",
       "  <thead>\n",
       "    <tr style=\"text-align: right;\">\n",
       "      <th></th>\n",
       "      <th>Review</th>\n",
       "      <th>Rating</th>\n",
       "      <th>sentiment</th>\n",
       "    </tr>\n",
       "  </thead>\n",
       "  <tbody>\n",
       "    <tr>\n",
       "      <th>0</th>\n",
       "      <td>Didn't make me feel anything unlike the original.</td>\n",
       "      <td>STAR_3</td>\n",
       "      <td>1</td>\n",
       "    </tr>\n",
       "    <tr>\n",
       "      <th>1</th>\n",
       "      <td>Well done! A great way to redo a classic. It f...</td>\n",
       "      <td>STAR_5</td>\n",
       "      <td>0</td>\n",
       "    </tr>\n",
       "    <tr>\n",
       "      <th>2</th>\n",
       "      <td>Good movie.  Just that the original animated w...</td>\n",
       "      <td>STAR_4</td>\n",
       "      <td>0</td>\n",
       "    </tr>\n",
       "    <tr>\n",
       "      <th>3</th>\n",
       "      <td>I didn’t like Beyoncé being nala. Bad acting. ...</td>\n",
       "      <td>STAR_3</td>\n",
       "      <td>1</td>\n",
       "    </tr>\n",
       "    <tr>\n",
       "      <th>4</th>\n",
       "      <td>Such a beautiful story. We've loved the animat...</td>\n",
       "      <td>STAR_5</td>\n",
       "      <td>0</td>\n",
       "    </tr>\n",
       "  </tbody>\n",
       "</table>\n",
       "</div>"
      ],
      "text/plain": [
       "                                              Review  Rating  sentiment\n",
       "0  Didn't make me feel anything unlike the original.  STAR_3          1\n",
       "1  Well done! A great way to redo a classic. It f...  STAR_5          0\n",
       "2  Good movie.  Just that the original animated w...  STAR_4          0\n",
       "3  I didn’t like Beyoncé being nala. Bad acting. ...  STAR_3          1\n",
       "4  Such a beautiful story. We've loved the animat...  STAR_5          0"
      ]
     },
     "metadata": {
      "tags": []
     },
     "output_type": "display_data"
    }
   ],
   "source": [
    "# checking above steps output\n",
    "\n",
    "display(df2.head())"
   ]
  },
  {
   "cell_type": "code",
   "execution_count": 0,
   "metadata": {
    "colab": {},
    "colab_type": "code",
    "id": "Mgqmuzst0_bT"
   },
   "outputs": [],
   "source": [
    "df2.drop(['Rating'], inplace = True, axis = 1)"
   ]
  },
  {
   "cell_type": "code",
   "execution_count": 131,
   "metadata": {
    "colab": {
     "base_uri": "https://localhost:8080/",
     "height": 204
    },
    "colab_type": "code",
    "id": "bKmLIQOU1I5z",
    "outputId": "c3d58a3d-fac7-41b2-ab47-8ff4f96a23e5"
   },
   "outputs": [
    {
     "data": {
      "text/html": [
       "<div>\n",
       "<style scoped>\n",
       "    .dataframe tbody tr th:only-of-type {\n",
       "        vertical-align: middle;\n",
       "    }\n",
       "\n",
       "    .dataframe tbody tr th {\n",
       "        vertical-align: top;\n",
       "    }\n",
       "\n",
       "    .dataframe thead th {\n",
       "        text-align: right;\n",
       "    }\n",
       "</style>\n",
       "<table border=\"1\" class=\"dataframe\">\n",
       "  <thead>\n",
       "    <tr style=\"text-align: right;\">\n",
       "      <th></th>\n",
       "      <th>Review</th>\n",
       "      <th>sentiment</th>\n",
       "    </tr>\n",
       "  </thead>\n",
       "  <tbody>\n",
       "    <tr>\n",
       "      <th>0</th>\n",
       "      <td>Didn't make me feel anything unlike the original.</td>\n",
       "      <td>1</td>\n",
       "    </tr>\n",
       "    <tr>\n",
       "      <th>1</th>\n",
       "      <td>Well done! A great way to redo a classic. It f...</td>\n",
       "      <td>0</td>\n",
       "    </tr>\n",
       "    <tr>\n",
       "      <th>2</th>\n",
       "      <td>Good movie.  Just that the original animated w...</td>\n",
       "      <td>0</td>\n",
       "    </tr>\n",
       "    <tr>\n",
       "      <th>3</th>\n",
       "      <td>I didn’t like Beyoncé being nala. Bad acting. ...</td>\n",
       "      <td>1</td>\n",
       "    </tr>\n",
       "    <tr>\n",
       "      <th>4</th>\n",
       "      <td>Such a beautiful story. We've loved the animat...</td>\n",
       "      <td>0</td>\n",
       "    </tr>\n",
       "  </tbody>\n",
       "</table>\n",
       "</div>"
      ],
      "text/plain": [
       "                                              Review  sentiment\n",
       "0  Didn't make me feel anything unlike the original.          1\n",
       "1  Well done! A great way to redo a classic. It f...          0\n",
       "2  Good movie.  Just that the original animated w...          0\n",
       "3  I didn’t like Beyoncé being nala. Bad acting. ...          1\n",
       "4  Such a beautiful story. We've loved the animat...          0"
      ]
     },
     "execution_count": 131,
     "metadata": {
      "tags": []
     },
     "output_type": "execute_result"
    }
   ],
   "source": [
    "df2.head()"
   ]
  },
  {
   "cell_type": "markdown",
   "metadata": {
    "colab_type": "text",
    "id": "fx7bn9nfYI2k"
   },
   "source": [
    "## Preprocessing"
   ]
  },
  {
   "cell_type": "code",
   "execution_count": 0,
   "metadata": {
    "colab": {
     "base_uri": "https://localhost:8080/",
     "height": 136
    },
    "colab_type": "code",
    "id": "-vxeXIUpTtWx",
    "outputId": "7921bafe-ba1a-4437-c083-eee23a30144c"
   },
   "outputs": [
    {
     "name": "stdout",
     "output_type": "stream",
     "text": [
      "[nltk_data] Downloading package punkt to /root/nltk_data...\n",
      "[nltk_data]   Package punkt is already up-to-date!\n",
      "[nltk_data] Downloading package wordnet to /root/nltk_data...\n",
      "[nltk_data]   Package wordnet is already up-to-date!\n",
      "[nltk_data] Downloading package stopwords to /root/nltk_data...\n",
      "[nltk_data]   Package stopwords is already up-to-date!\n"
     ]
    },
    {
     "data": {
      "text/plain": [
       "True"
      ]
     },
     "execution_count": 51,
     "metadata": {
      "tags": []
     },
     "output_type": "execute_result"
    }
   ],
   "source": [
    "# necessary imports for the function preprocessing\n",
    "\n",
    "from nltk.tokenize import word_tokenize\n",
    "from nltk.stem import WordNetLemmatizer\n",
    "import re\n",
    "import nltk\n",
    "nltk.download('punkt')\n",
    "import nltk\n",
    "nltk.download('wordnet')\n",
    "from nltk.corpus import stopwords\n",
    "from nltk.stem.porter import PorterStemmer\n",
    "stemmer = PorterStemmer()\n",
    "import nltk\n",
    "nltk.download('stopwords')\n",
    "\n",
    "#stop_words = set(stopwords.words(\"english\")) "
   ]
  },
  {
   "cell_type": "code",
   "execution_count": 0,
   "metadata": {
    "colab": {},
    "colab_type": "code",
    "id": "1oKJxtQXd2GQ"
   },
   "outputs": [],
   "source": [
    "# self defined stop words for sentiment analysis\n",
    "stop_words=['in','of','at','the','this','had','and','were',\\\n",
    "         'for','but','for','wa','who','to','on','it','is','a',\\\n",
    "      'my','we','me','that','didnt', 'WA']\n",
    "\n",
    "#stop_words = stopwords.words('english')\n",
    "stop_words=['in','of','at','a','the']\n",
    "# defining lemmatizer\n",
    "wordnet_lemmatizer = WordNetLemmatizer()\n",
    "\n",
    "# Basic preprocessing function\n",
    "def preprocessing(text):\n",
    "    text = text.lower() # to lower\n",
    "    text = re.sub(\"[.;:!\\'?,\\\"()\\[\\]]\", '', text)\n",
    "    text = re.sub(\"(<br\\s*/><br\\s*/>)|(\\-)|(\\/)\", '', text)\n",
    "    text = re.sub(\"[0-9]+\", '', text)\n",
    "    text = re.sub(\"_\", '', text)\n",
    "    text = word_tokenize(text)\n",
    "    text = [w for w in text if not w in stop_words] # removing self defined stopwords\n",
    "    text = [word for word in text if len(word) > 1] # removing single character tokens\n",
    "    #text = [stemmer.stem(word) for word in text]\n",
    "    text = [wordnet_lemmatizer.lemmatize(word) for word in text]# doing lemmatizer\n",
    "    \n",
    "    return(' '.join(text))\n",
    "  "
   ]
  },
  {
   "cell_type": "code",
   "execution_count": 0,
   "metadata": {
    "colab": {
     "base_uri": "https://localhost:8080/",
     "height": 204
    },
    "colab_type": "code",
    "id": "WjiTG0PUmLkq",
    "outputId": "bb505632-5f6f-41ee-e787-9c69e0a7f05c"
   },
   "outputs": [
    {
     "data": {
      "text/html": [
       "<div>\n",
       "<style scoped>\n",
       "    .dataframe tbody tr th:only-of-type {\n",
       "        vertical-align: middle;\n",
       "    }\n",
       "\n",
       "    .dataframe tbody tr th {\n",
       "        vertical-align: top;\n",
       "    }\n",
       "\n",
       "    .dataframe thead th {\n",
       "        text-align: right;\n",
       "    }\n",
       "</style>\n",
       "<table border=\"1\" class=\"dataframe\">\n",
       "  <thead>\n",
       "    <tr style=\"text-align: right;\">\n",
       "      <th></th>\n",
       "      <th>Review</th>\n",
       "      <th>Rating</th>\n",
       "      <th>sentiment</th>\n",
       "      <th>filt_sent</th>\n",
       "    </tr>\n",
       "  </thead>\n",
       "  <tbody>\n",
       "    <tr>\n",
       "      <th>0</th>\n",
       "      <td>Didn't make me feel anything unlike the original.</td>\n",
       "      <td>STAR_3</td>\n",
       "      <td>1</td>\n",
       "      <td>didnt make me feel anything unlike original</td>\n",
       "    </tr>\n",
       "    <tr>\n",
       "      <th>1</th>\n",
       "      <td>Well done! A great way to redo a classic. It f...</td>\n",
       "      <td>STAR_5</td>\n",
       "      <td>0</td>\n",
       "      <td>well done great way to redo classic it felt pa...</td>\n",
       "    </tr>\n",
       "    <tr>\n",
       "      <th>2</th>\n",
       "      <td>Good movie.  Just that the original animated w...</td>\n",
       "      <td>STAR_4</td>\n",
       "      <td>0</td>\n",
       "      <td>good movie just that original animated wa bett...</td>\n",
       "    </tr>\n",
       "    <tr>\n",
       "      <th>3</th>\n",
       "      <td>I didn’t like Beyoncé being nala. Bad acting. ...</td>\n",
       "      <td>STAR_3</td>\n",
       "      <td>1</td>\n",
       "      <td>didn like beyoncé being nala bad acting didn l...</td>\n",
       "    </tr>\n",
       "    <tr>\n",
       "      <th>4</th>\n",
       "      <td>Such a beautiful story. We've loved the animat...</td>\n",
       "      <td>STAR_5</td>\n",
       "      <td>0</td>\n",
       "      <td>such beautiful story weve loved animated versi...</td>\n",
       "    </tr>\n",
       "  </tbody>\n",
       "</table>\n",
       "</div>"
      ],
      "text/plain": [
       "                                              Review  ...                                          filt_sent\n",
       "0  Didn't make me feel anything unlike the original.  ...        didnt make me feel anything unlike original\n",
       "1  Well done! A great way to redo a classic. It f...  ...  well done great way to redo classic it felt pa...\n",
       "2  Good movie.  Just that the original animated w...  ...  good movie just that original animated wa bett...\n",
       "3  I didn’t like Beyoncé being nala. Bad acting. ...  ...  didn like beyoncé being nala bad acting didn l...\n",
       "4  Such a beautiful story. We've loved the animat...  ...  such beautiful story weve loved animated versi...\n",
       "\n",
       "[5 rows x 4 columns]"
      ]
     },
     "execution_count": 53,
     "metadata": {
      "tags": []
     },
     "output_type": "execute_result"
    }
   ],
   "source": [
    "df2['filt_sent'] = df2['Review'].apply(preprocessing)\n",
    "\n",
    "# check how preprocessing function worked\n",
    "\n",
    "df2.head()"
   ]
  },
  {
   "cell_type": "code",
   "execution_count": 0,
   "metadata": {
    "colab": {
     "base_uri": "https://localhost:8080/",
     "height": 204
    },
    "colab_type": "code",
    "id": "6pU4lv0gouOB",
    "outputId": "386907a8-fc34-4422-bd1d-bf55c1e54f57"
   },
   "outputs": [
    {
     "data": {
      "text/html": [
       "<div>\n",
       "<style scoped>\n",
       "    .dataframe tbody tr th:only-of-type {\n",
       "        vertical-align: middle;\n",
       "    }\n",
       "\n",
       "    .dataframe tbody tr th {\n",
       "        vertical-align: top;\n",
       "    }\n",
       "\n",
       "    .dataframe thead th {\n",
       "        text-align: right;\n",
       "    }\n",
       "</style>\n",
       "<table border=\"1\" class=\"dataframe\">\n",
       "  <thead>\n",
       "    <tr style=\"text-align: right;\">\n",
       "      <th></th>\n",
       "      <th>filt_sent</th>\n",
       "      <th>sentiment</th>\n",
       "    </tr>\n",
       "  </thead>\n",
       "  <tbody>\n",
       "    <tr>\n",
       "      <th>0</th>\n",
       "      <td>didnt make me feel anything unlike original</td>\n",
       "      <td>1</td>\n",
       "    </tr>\n",
       "    <tr>\n",
       "      <th>1</th>\n",
       "      <td>well done great way to redo classic it felt pa...</td>\n",
       "      <td>0</td>\n",
       "    </tr>\n",
       "    <tr>\n",
       "      <th>2</th>\n",
       "      <td>good movie just that original animated wa bett...</td>\n",
       "      <td>0</td>\n",
       "    </tr>\n",
       "    <tr>\n",
       "      <th>3</th>\n",
       "      <td>didn like beyoncé being nala bad acting didn l...</td>\n",
       "      <td>1</td>\n",
       "    </tr>\n",
       "    <tr>\n",
       "      <th>4</th>\n",
       "      <td>such beautiful story weve loved animated versi...</td>\n",
       "      <td>0</td>\n",
       "    </tr>\n",
       "  </tbody>\n",
       "</table>\n",
       "</div>"
      ],
      "text/plain": [
       "                                           filt_sent  sentiment\n",
       "0        didnt make me feel anything unlike original          1\n",
       "1  well done great way to redo classic it felt pa...          0\n",
       "2  good movie just that original animated wa bett...          0\n",
       "3  didn like beyoncé being nala bad acting didn l...          1\n",
       "4  such beautiful story weve loved animated versi...          0"
      ]
     },
     "metadata": {
      "tags": []
     },
     "output_type": "display_data"
    }
   ],
   "source": [
    "# taking selective columns from df2 for further process \n",
    "\n",
    "df3 = df2.loc[:, ['filt_sent', 'sentiment']]\n",
    "display(df3.head())"
   ]
  },
  {
   "cell_type": "code",
   "execution_count": 0,
   "metadata": {
    "colab": {},
    "colab_type": "code",
    "id": "gdc9Sc8ionhH"
   },
   "outputs": [],
   "source": [
    "# necessary imports\n",
    "\n",
    "from sklearn.feature_extraction.text import CountVectorizer"
   ]
  },
  {
   "cell_type": "code",
   "execution_count": 0,
   "metadata": {
    "colab": {},
    "colab_type": "code",
    "id": "-_L_WVOnvfPg"
   },
   "outputs": [],
   "source": [
    "# word count \n",
    "\n",
    "wc_vectorizer = CountVectorizer(binary = False, ngram_range = (1, 3))\n",
    "wc_vectorizer.fit(df3['filt_sent'])\n",
    "X = wc_vectorizer.transform(df3['filt_sent'])\n",
    "\n",
    "# list of words taken\n",
    "word_list = wc_vectorizer.get_feature_names() \n",
    "\n",
    "# no of times each word in the word_list appeared\n",
    "count_list = X.toarray().sum(axis=0)"
   ]
  },
  {
   "cell_type": "code",
   "execution_count": 0,
   "metadata": {
    "colab": {
     "base_uri": "https://localhost:8080/",
     "height": 68
    },
    "colab_type": "code",
    "id": "qm44ZX5GwGZr",
    "outputId": "8ea1a244-994d-499e-9d00-efe6cd688c10"
   },
   "outputs": [
    {
     "name": "stdout",
     "output_type": "stream",
     "text": [
      "total words taken in columns\n",
      "469\n",
      "\n"
     ]
    }
   ],
   "source": [
    "# taking only the words where its total occurence across reviews acrosses a perticular mark\n",
    "\n",
    "w = np.array(word_list)[np.where(count_list > 30)]\n",
    "\n",
    "# no of words taken \n",
    "print('total words taken in columns\\n{}\\n'.format(len(w)))"
   ]
  },
  {
   "cell_type": "code",
   "execution_count": 0,
   "metadata": {
    "colab": {},
    "colab_type": "code",
    "id": "dzJmc_SqvGc-"
   },
   "outputs": [],
   "source": [
    "# createing a data frame with those words, rows are the reviews and columns represent some words present in thet reviews\n",
    "\n",
    "words_df = pd.DataFrame(X.toarray(), columns = word_list).loc[:, w]"
   ]
  },
  {
   "cell_type": "code",
   "execution_count": 0,
   "metadata": {
    "colab": {},
    "colab_type": "code",
    "id": "5JG977HwBCb8"
   },
   "outputs": [],
   "source": [
    "# concatenating words_df with df3 which has reviews and associated sentiment\n",
    "\n",
    "df4 = pd.concat([df3, words_df], axis = 1)"
   ]
  },
  {
   "cell_type": "code",
   "execution_count": 0,
   "metadata": {
    "colab": {},
    "colab_type": "code",
    "id": "AGuV0geJwPef"
   },
   "outputs": [],
   "source": [
    "df5 = df4.drop(['filt_sent'], axis = 1)"
   ]
  },
  {
   "cell_type": "code",
   "execution_count": 0,
   "metadata": {
    "colab": {
     "base_uri": "https://localhost:8080/",
     "height": 68
    },
    "colab_type": "code",
    "id": "eDKdPPPjdfVO",
    "outputId": "776b4dd9-8dcb-45c2-961b-73a36a949edd"
   },
   "outputs": [
    {
     "data": {
      "text/plain": [
       "0    2173\n",
       "1     827\n",
       "Name: sentiment, dtype: int64"
      ]
     },
     "execution_count": 61,
     "metadata": {
      "tags": []
     },
     "output_type": "execute_result"
    }
   ],
   "source": [
    "# number of positive and negative sentiments 0 for positive and 1 for negative\n",
    "df5.sentiment.value_counts()"
   ]
  },
  {
   "cell_type": "code",
   "execution_count": 0,
   "metadata": {
    "colab": {},
    "colab_type": "code",
    "id": "1ijR3pvRwIdQ"
   },
   "outputs": [],
   "source": [
    "df5['sentiment'] = df5['sentiment'].astype('category')"
   ]
  },
  {
   "cell_type": "code",
   "execution_count": 0,
   "metadata": {
    "colab": {
     "base_uri": "https://localhost:8080/",
     "height": 270
    },
    "colab_type": "code",
    "id": "Sm3njAmbalpc",
    "outputId": "8380ae2f-c19d-4149-8c99-014641a81754"
   },
   "outputs": [
    {
     "data": {
      "text/html": [
       "<div>\n",
       "<style scoped>\n",
       "    .dataframe tbody tr th:only-of-type {\n",
       "        vertical-align: middle;\n",
       "    }\n",
       "\n",
       "    .dataframe tbody tr th {\n",
       "        vertical-align: top;\n",
       "    }\n",
       "\n",
       "    .dataframe thead th {\n",
       "        text-align: right;\n",
       "    }\n",
       "</style>\n",
       "<table border=\"1\" class=\"dataframe\">\n",
       "  <thead>\n",
       "    <tr style=\"text-align: right;\">\n",
       "      <th></th>\n",
       "      <th>sentiment</th>\n",
       "      <th>about</th>\n",
       "      <th>absolutely</th>\n",
       "      <th>acting</th>\n",
       "      <th>acting wa</th>\n",
       "      <th>action</th>\n",
       "      <th>actor</th>\n",
       "      <th>actually</th>\n",
       "      <th>add</th>\n",
       "      <th>added</th>\n",
       "      <th>adult</th>\n",
       "      <th>again</th>\n",
       "      <th>age</th>\n",
       "      <th>all</th>\n",
       "      <th>almost</th>\n",
       "      <th>also</th>\n",
       "      <th>always</th>\n",
       "      <th>amazing</th>\n",
       "      <th>an</th>\n",
       "      <th>and</th>\n",
       "      <th>and it</th>\n",
       "      <th>and pumba</th>\n",
       "      <th>and they</th>\n",
       "      <th>animal</th>\n",
       "      <th>animal looked</th>\n",
       "      <th>animal were</th>\n",
       "      <th>animated</th>\n",
       "      <th>animated movie</th>\n",
       "      <th>animated version</th>\n",
       "      <th>animation</th>\n",
       "      <th>animation wa</th>\n",
       "      <th>another</th>\n",
       "      <th>any</th>\n",
       "      <th>anything</th>\n",
       "      <th>are</th>\n",
       "      <th>away</th>\n",
       "      <th>awesome</th>\n",
       "      <th>back</th>\n",
       "      <th>bad</th>\n",
       "      <th>be</th>\n",
       "      <th>...</th>\n",
       "      <th>wa very</th>\n",
       "      <th>wait</th>\n",
       "      <th>want</th>\n",
       "      <th>wanted</th>\n",
       "      <th>wasnt</th>\n",
       "      <th>watch</th>\n",
       "      <th>watched</th>\n",
       "      <th>watching</th>\n",
       "      <th>way</th>\n",
       "      <th>we</th>\n",
       "      <th>well</th>\n",
       "      <th>well done</th>\n",
       "      <th>went</th>\n",
       "      <th>were</th>\n",
       "      <th>what</th>\n",
       "      <th>when</th>\n",
       "      <th>where</th>\n",
       "      <th>which</th>\n",
       "      <th>while</th>\n",
       "      <th>who</th>\n",
       "      <th>whole</th>\n",
       "      <th>why</th>\n",
       "      <th>will</th>\n",
       "      <th>wish</th>\n",
       "      <th>with</th>\n",
       "      <th>with my</th>\n",
       "      <th>without</th>\n",
       "      <th>wonderful</th>\n",
       "      <th>word</th>\n",
       "      <th>work</th>\n",
       "      <th>worth</th>\n",
       "      <th>would</th>\n",
       "      <th>would have</th>\n",
       "      <th>year</th>\n",
       "      <th>year old</th>\n",
       "      <th>yet</th>\n",
       "      <th>you</th>\n",
       "      <th>you feel</th>\n",
       "      <th>young</th>\n",
       "      <th>your</th>\n",
       "    </tr>\n",
       "  </thead>\n",
       "  <tbody>\n",
       "    <tr>\n",
       "      <th>0</th>\n",
       "      <td>1</td>\n",
       "      <td>0</td>\n",
       "      <td>0</td>\n",
       "      <td>0</td>\n",
       "      <td>0</td>\n",
       "      <td>0</td>\n",
       "      <td>0</td>\n",
       "      <td>0</td>\n",
       "      <td>0</td>\n",
       "      <td>0</td>\n",
       "      <td>0</td>\n",
       "      <td>0</td>\n",
       "      <td>0</td>\n",
       "      <td>0</td>\n",
       "      <td>0</td>\n",
       "      <td>0</td>\n",
       "      <td>0</td>\n",
       "      <td>0</td>\n",
       "      <td>0</td>\n",
       "      <td>0</td>\n",
       "      <td>0</td>\n",
       "      <td>0</td>\n",
       "      <td>0</td>\n",
       "      <td>0</td>\n",
       "      <td>0</td>\n",
       "      <td>0</td>\n",
       "      <td>0</td>\n",
       "      <td>0</td>\n",
       "      <td>0</td>\n",
       "      <td>0</td>\n",
       "      <td>0</td>\n",
       "      <td>0</td>\n",
       "      <td>0</td>\n",
       "      <td>1</td>\n",
       "      <td>0</td>\n",
       "      <td>0</td>\n",
       "      <td>0</td>\n",
       "      <td>0</td>\n",
       "      <td>0</td>\n",
       "      <td>0</td>\n",
       "      <td>...</td>\n",
       "      <td>0</td>\n",
       "      <td>0</td>\n",
       "      <td>0</td>\n",
       "      <td>0</td>\n",
       "      <td>0</td>\n",
       "      <td>0</td>\n",
       "      <td>0</td>\n",
       "      <td>0</td>\n",
       "      <td>0</td>\n",
       "      <td>0</td>\n",
       "      <td>0</td>\n",
       "      <td>0</td>\n",
       "      <td>0</td>\n",
       "      <td>0</td>\n",
       "      <td>0</td>\n",
       "      <td>0</td>\n",
       "      <td>0</td>\n",
       "      <td>0</td>\n",
       "      <td>0</td>\n",
       "      <td>0</td>\n",
       "      <td>0</td>\n",
       "      <td>0</td>\n",
       "      <td>0</td>\n",
       "      <td>0</td>\n",
       "      <td>0</td>\n",
       "      <td>0</td>\n",
       "      <td>0</td>\n",
       "      <td>0</td>\n",
       "      <td>0</td>\n",
       "      <td>0</td>\n",
       "      <td>0</td>\n",
       "      <td>0</td>\n",
       "      <td>0</td>\n",
       "      <td>0</td>\n",
       "      <td>0</td>\n",
       "      <td>0</td>\n",
       "      <td>0</td>\n",
       "      <td>0</td>\n",
       "      <td>0</td>\n",
       "      <td>0</td>\n",
       "    </tr>\n",
       "    <tr>\n",
       "      <th>1</th>\n",
       "      <td>0</td>\n",
       "      <td>0</td>\n",
       "      <td>0</td>\n",
       "      <td>0</td>\n",
       "      <td>0</td>\n",
       "      <td>0</td>\n",
       "      <td>0</td>\n",
       "      <td>0</td>\n",
       "      <td>0</td>\n",
       "      <td>0</td>\n",
       "      <td>0</td>\n",
       "      <td>0</td>\n",
       "      <td>0</td>\n",
       "      <td>1</td>\n",
       "      <td>0</td>\n",
       "      <td>0</td>\n",
       "      <td>0</td>\n",
       "      <td>0</td>\n",
       "      <td>0</td>\n",
       "      <td>0</td>\n",
       "      <td>0</td>\n",
       "      <td>0</td>\n",
       "      <td>0</td>\n",
       "      <td>1</td>\n",
       "      <td>0</td>\n",
       "      <td>0</td>\n",
       "      <td>0</td>\n",
       "      <td>0</td>\n",
       "      <td>0</td>\n",
       "      <td>0</td>\n",
       "      <td>0</td>\n",
       "      <td>0</td>\n",
       "      <td>0</td>\n",
       "      <td>0</td>\n",
       "      <td>0</td>\n",
       "      <td>0</td>\n",
       "      <td>0</td>\n",
       "      <td>0</td>\n",
       "      <td>0</td>\n",
       "      <td>0</td>\n",
       "      <td>...</td>\n",
       "      <td>0</td>\n",
       "      <td>0</td>\n",
       "      <td>0</td>\n",
       "      <td>0</td>\n",
       "      <td>0</td>\n",
       "      <td>0</td>\n",
       "      <td>0</td>\n",
       "      <td>1</td>\n",
       "      <td>1</td>\n",
       "      <td>0</td>\n",
       "      <td>1</td>\n",
       "      <td>1</td>\n",
       "      <td>0</td>\n",
       "      <td>0</td>\n",
       "      <td>0</td>\n",
       "      <td>0</td>\n",
       "      <td>0</td>\n",
       "      <td>0</td>\n",
       "      <td>0</td>\n",
       "      <td>0</td>\n",
       "      <td>0</td>\n",
       "      <td>0</td>\n",
       "      <td>0</td>\n",
       "      <td>0</td>\n",
       "      <td>0</td>\n",
       "      <td>0</td>\n",
       "      <td>0</td>\n",
       "      <td>0</td>\n",
       "      <td>0</td>\n",
       "      <td>0</td>\n",
       "      <td>0</td>\n",
       "      <td>0</td>\n",
       "      <td>0</td>\n",
       "      <td>0</td>\n",
       "      <td>0</td>\n",
       "      <td>0</td>\n",
       "      <td>0</td>\n",
       "      <td>0</td>\n",
       "      <td>0</td>\n",
       "      <td>0</td>\n",
       "    </tr>\n",
       "    <tr>\n",
       "      <th>2</th>\n",
       "      <td>0</td>\n",
       "      <td>0</td>\n",
       "      <td>0</td>\n",
       "      <td>0</td>\n",
       "      <td>0</td>\n",
       "      <td>0</td>\n",
       "      <td>0</td>\n",
       "      <td>0</td>\n",
       "      <td>0</td>\n",
       "      <td>0</td>\n",
       "      <td>0</td>\n",
       "      <td>0</td>\n",
       "      <td>0</td>\n",
       "      <td>0</td>\n",
       "      <td>0</td>\n",
       "      <td>0</td>\n",
       "      <td>0</td>\n",
       "      <td>0</td>\n",
       "      <td>0</td>\n",
       "      <td>0</td>\n",
       "      <td>0</td>\n",
       "      <td>0</td>\n",
       "      <td>0</td>\n",
       "      <td>0</td>\n",
       "      <td>0</td>\n",
       "      <td>0</td>\n",
       "      <td>1</td>\n",
       "      <td>0</td>\n",
       "      <td>0</td>\n",
       "      <td>0</td>\n",
       "      <td>0</td>\n",
       "      <td>0</td>\n",
       "      <td>0</td>\n",
       "      <td>0</td>\n",
       "      <td>0</td>\n",
       "      <td>0</td>\n",
       "      <td>0</td>\n",
       "      <td>0</td>\n",
       "      <td>0</td>\n",
       "      <td>0</td>\n",
       "      <td>...</td>\n",
       "      <td>0</td>\n",
       "      <td>0</td>\n",
       "      <td>0</td>\n",
       "      <td>0</td>\n",
       "      <td>0</td>\n",
       "      <td>0</td>\n",
       "      <td>0</td>\n",
       "      <td>0</td>\n",
       "      <td>0</td>\n",
       "      <td>0</td>\n",
       "      <td>0</td>\n",
       "      <td>0</td>\n",
       "      <td>0</td>\n",
       "      <td>0</td>\n",
       "      <td>0</td>\n",
       "      <td>0</td>\n",
       "      <td>0</td>\n",
       "      <td>0</td>\n",
       "      <td>0</td>\n",
       "      <td>0</td>\n",
       "      <td>0</td>\n",
       "      <td>0</td>\n",
       "      <td>0</td>\n",
       "      <td>0</td>\n",
       "      <td>0</td>\n",
       "      <td>0</td>\n",
       "      <td>0</td>\n",
       "      <td>0</td>\n",
       "      <td>0</td>\n",
       "      <td>0</td>\n",
       "      <td>0</td>\n",
       "      <td>0</td>\n",
       "      <td>0</td>\n",
       "      <td>0</td>\n",
       "      <td>0</td>\n",
       "      <td>0</td>\n",
       "      <td>0</td>\n",
       "      <td>0</td>\n",
       "      <td>0</td>\n",
       "      <td>0</td>\n",
       "    </tr>\n",
       "    <tr>\n",
       "      <th>3</th>\n",
       "      <td>1</td>\n",
       "      <td>0</td>\n",
       "      <td>0</td>\n",
       "      <td>1</td>\n",
       "      <td>0</td>\n",
       "      <td>0</td>\n",
       "      <td>0</td>\n",
       "      <td>0</td>\n",
       "      <td>0</td>\n",
       "      <td>1</td>\n",
       "      <td>0</td>\n",
       "      <td>0</td>\n",
       "      <td>0</td>\n",
       "      <td>0</td>\n",
       "      <td>0</td>\n",
       "      <td>0</td>\n",
       "      <td>0</td>\n",
       "      <td>0</td>\n",
       "      <td>0</td>\n",
       "      <td>0</td>\n",
       "      <td>0</td>\n",
       "      <td>0</td>\n",
       "      <td>0</td>\n",
       "      <td>0</td>\n",
       "      <td>0</td>\n",
       "      <td>0</td>\n",
       "      <td>0</td>\n",
       "      <td>0</td>\n",
       "      <td>0</td>\n",
       "      <td>0</td>\n",
       "      <td>0</td>\n",
       "      <td>0</td>\n",
       "      <td>0</td>\n",
       "      <td>0</td>\n",
       "      <td>0</td>\n",
       "      <td>0</td>\n",
       "      <td>0</td>\n",
       "      <td>0</td>\n",
       "      <td>1</td>\n",
       "      <td>0</td>\n",
       "      <td>...</td>\n",
       "      <td>0</td>\n",
       "      <td>0</td>\n",
       "      <td>0</td>\n",
       "      <td>0</td>\n",
       "      <td>0</td>\n",
       "      <td>0</td>\n",
       "      <td>0</td>\n",
       "      <td>0</td>\n",
       "      <td>0</td>\n",
       "      <td>0</td>\n",
       "      <td>0</td>\n",
       "      <td>0</td>\n",
       "      <td>0</td>\n",
       "      <td>0</td>\n",
       "      <td>0</td>\n",
       "      <td>0</td>\n",
       "      <td>0</td>\n",
       "      <td>0</td>\n",
       "      <td>0</td>\n",
       "      <td>0</td>\n",
       "      <td>0</td>\n",
       "      <td>0</td>\n",
       "      <td>0</td>\n",
       "      <td>0</td>\n",
       "      <td>0</td>\n",
       "      <td>0</td>\n",
       "      <td>0</td>\n",
       "      <td>0</td>\n",
       "      <td>0</td>\n",
       "      <td>0</td>\n",
       "      <td>0</td>\n",
       "      <td>0</td>\n",
       "      <td>0</td>\n",
       "      <td>0</td>\n",
       "      <td>0</td>\n",
       "      <td>0</td>\n",
       "      <td>0</td>\n",
       "      <td>0</td>\n",
       "      <td>0</td>\n",
       "      <td>0</td>\n",
       "    </tr>\n",
       "    <tr>\n",
       "      <th>4</th>\n",
       "      <td>0</td>\n",
       "      <td>0</td>\n",
       "      <td>0</td>\n",
       "      <td>0</td>\n",
       "      <td>0</td>\n",
       "      <td>0</td>\n",
       "      <td>0</td>\n",
       "      <td>0</td>\n",
       "      <td>0</td>\n",
       "      <td>0</td>\n",
       "      <td>0</td>\n",
       "      <td>0</td>\n",
       "      <td>0</td>\n",
       "      <td>1</td>\n",
       "      <td>0</td>\n",
       "      <td>0</td>\n",
       "      <td>0</td>\n",
       "      <td>0</td>\n",
       "      <td>0</td>\n",
       "      <td>0</td>\n",
       "      <td>0</td>\n",
       "      <td>0</td>\n",
       "      <td>0</td>\n",
       "      <td>1</td>\n",
       "      <td>0</td>\n",
       "      <td>1</td>\n",
       "      <td>1</td>\n",
       "      <td>0</td>\n",
       "      <td>1</td>\n",
       "      <td>0</td>\n",
       "      <td>0</td>\n",
       "      <td>0</td>\n",
       "      <td>0</td>\n",
       "      <td>0</td>\n",
       "      <td>0</td>\n",
       "      <td>0</td>\n",
       "      <td>0</td>\n",
       "      <td>0</td>\n",
       "      <td>0</td>\n",
       "      <td>0</td>\n",
       "      <td>...</td>\n",
       "      <td>0</td>\n",
       "      <td>0</td>\n",
       "      <td>0</td>\n",
       "      <td>0</td>\n",
       "      <td>0</td>\n",
       "      <td>0</td>\n",
       "      <td>0</td>\n",
       "      <td>0</td>\n",
       "      <td>0</td>\n",
       "      <td>0</td>\n",
       "      <td>0</td>\n",
       "      <td>0</td>\n",
       "      <td>0</td>\n",
       "      <td>2</td>\n",
       "      <td>0</td>\n",
       "      <td>0</td>\n",
       "      <td>0</td>\n",
       "      <td>1</td>\n",
       "      <td>0</td>\n",
       "      <td>0</td>\n",
       "      <td>0</td>\n",
       "      <td>0</td>\n",
       "      <td>0</td>\n",
       "      <td>0</td>\n",
       "      <td>0</td>\n",
       "      <td>0</td>\n",
       "      <td>0</td>\n",
       "      <td>0</td>\n",
       "      <td>0</td>\n",
       "      <td>0</td>\n",
       "      <td>0</td>\n",
       "      <td>0</td>\n",
       "      <td>0</td>\n",
       "      <td>1</td>\n",
       "      <td>0</td>\n",
       "      <td>0</td>\n",
       "      <td>0</td>\n",
       "      <td>0</td>\n",
       "      <td>0</td>\n",
       "      <td>0</td>\n",
       "    </tr>\n",
       "  </tbody>\n",
       "</table>\n",
       "<p>5 rows × 470 columns</p>\n",
       "</div>"
      ],
      "text/plain": [
       "  sentiment  about  absolutely  acting  ...  you  you feel  young  your\n",
       "0         1      0           0       0  ...    0         0      0     0\n",
       "1         0      0           0       0  ...    0         0      0     0\n",
       "2         0      0           0       0  ...    0         0      0     0\n",
       "3         1      0           0       1  ...    0         0      0     0\n",
       "4         0      0           0       0  ...    0         0      0     0\n",
       "\n",
       "[5 rows x 470 columns]"
      ]
     },
     "execution_count": 63,
     "metadata": {
      "tags": []
     },
     "output_type": "execute_result"
    }
   ],
   "source": [
    "# a data frame with words (n-gram) that occured in more than 30 reviews, going to use this for unsupervised learning\n",
    "\n",
    "df5.head()"
   ]
  },
  {
   "cell_type": "markdown",
   "metadata": {
    "colab_type": "text",
    "id": "zoNb-JMbbaJw"
   },
   "source": [
    "# Task 3: EDA using Visualization"
   ]
  },
  {
   "cell_type": "code",
   "execution_count": 0,
   "metadata": {
    "colab": {
     "base_uri": "https://localhost:8080/",
     "height": 361
    },
    "colab_type": "code",
    "id": "4rBdXnE_B0Sr",
    "outputId": "156d97d5-917d-4151-ee55-73371c4c547a",
    "scrolled": true
   },
   "outputs": [
    {
     "data": {
      "image/png": "[encoded data removed]",
      "text/plain": [
       "<Figure size 936x360 with 1 Axes>"
      ]
     },
     "metadata": {
      "tags": []
     },
     "output_type": "display_data"
    }
   ],
   "source": [
    "import seaborn as sns\n",
    "import matplotlib.pyplot as plt\n",
    "\n",
    "a4_dims = (13, 5)\n",
    "fig, ax = pyplot.subplots(figsize=a4_dims)\n",
    "\n",
    "sns.countplot(ax = ax, x = 'Rating', hue = 'sentiment', data = df2.loc[:, ['Rating', 'sentiment']])\n",
    "plt.title('Distribution of Rating with its associated sentiment', fontsize = 20, color = 'RED')\n",
    "plt.xlabel('Rating', fontsize = 15, color = 'black')\n",
    "plt.ylabel('Count', fontsize = 15, color = 'black')\n",
    "plt.show()"
   ]
  },
  {
   "cell_type": "code",
   "execution_count": 0,
   "metadata": {
    "colab": {
     "base_uri": "https://localhost:8080/",
     "height": 316
    },
    "colab_type": "code",
    "id": "JXYBEyFrwJ8s",
    "outputId": "6107f48f-5dca-490f-b7f2-7fe3bcc63a12"
   },
   "outputs": [
    {
     "data": {
      "image/png": "[encoded data removed]",
      "text/plain": [
       "<Figure size 432x288 with 1 Axes>"
      ]
     },
     "metadata": {
      "tags": []
     },
     "output_type": "display_data"
    }
   ],
   "source": [
    "# sentiment of reviews, count of positive and negative\n",
    "sent = df5.replace({'sentiment': {0: 'positive', 1:'negative'}})\n",
    "sns.set(style=\"darkgrid\")\n",
    "ax = sns.countplot(x=\"sentiment\", data=sent)\n",
    "ax.figure.suptitle('Ratio of Positive-Negative Sentiment', fontsize = 20, color = 'RED')\n",
    "plt.ylabel('Count', fontsize = 15, color = 'black')\n",
    "plt.xlabel('Sentiment', fontsize = 15, color = 'black')\n",
    "plt.show()"
   ]
  },
  {
   "cell_type": "code",
   "execution_count": 0,
   "metadata": {
    "colab": {},
    "colab_type": "code",
    "id": "G7QYOxI2mMuy"
   },
   "outputs": [],
   "source": [
    "# word count \n",
    "\n",
    "negat_senti = df4.loc[df4['sentiment'] == 1, ['filt_sent']]\n",
    "posit_senti = df4.loc[df4['sentiment'] == 0, ['filt_sent']]\n",
    "\n",
    "word_in = pd.DataFrame()\n",
    "\n",
    "word_in['words'] = df4['filt_sent'].apply(lambda x: len(str(x).split()))\n",
    "word_in_negat_rev = negat_senti['filt_sent'].apply(lambda x: len(str(x).split()))\n",
    "word_in_posit_rev = posit_senti['filt_sent'].apply(lambda x: len(str(x).split()))"
   ]
  },
  {
   "cell_type": "code",
   "execution_count": 0,
   "metadata": {
    "colab": {
     "base_uri": "https://localhost:8080/",
     "height": 343
    },
    "colab_type": "code",
    "id": "Pkp5kUsppRZ0",
    "outputId": "e2727e00-43e9-41e3-8d22-875dea79b662"
   },
   "outputs": [
    {
     "data": {
      "image/png": "[encoded data removed]",
      "text/plain": [
       "<Figure size 936x360 with 2 Axes>"
      ]
     },
     "metadata": {
      "tags": []
     },
     "output_type": "display_data"
    }
   ],
   "source": [
    "a4_dims = (13, 5)\n",
    "\n",
    "f, axes = plt.subplots(1, 2, figsize=a4_dims)\n",
    "\n",
    "sns.distplot(word_in_negat_rev, hist=True, kde=False, \n",
    "               color = 'red',\n",
    "             hist_kws={'edgecolor':'black'}, ax=axes[0], axlabel = False)\n",
    "\n",
    "\n",
    "\n",
    "sns.distplot(word_in_posit_rev, hist=True, kde=False, \n",
    "               color = 'green',\n",
    "             hist_kws={'edgecolor':'black'}, ax=axes[1], axlabel = False)\n",
    "\n",
    "plt.title('Text word count distribution Red-Negative, Green-Positive', fontsize=20, color = 'blue')\n",
    "plt.show()\n",
    "\n"
   ]
  },
  {
   "cell_type": "code",
   "execution_count": 0,
   "metadata": {
    "colab": {
     "base_uri": "https://localhost:8080/",
     "height": 51
    },
    "colab_type": "code",
    "id": "UD2bEqYCc5zN",
    "outputId": "c5d36cf4-5db0-482e-d154-3c1d4c360def"
   },
   "outputs": [
    {
     "name": "stdout",
     "output_type": "stream",
     "text": [
      "[nltk_data] Downloading package stopwords to /root/nltk_data...\n",
      "[nltk_data]   Package stopwords is already up-to-date!\n"
     ]
    }
   ],
   "source": [
    "# necessary imports\n",
    "import nltk\n",
    "nltk.download('stopwords')\n",
    "\n",
    "import warnings\n",
    "warnings.simplefilter(\"ignore\", UserWarning)\n",
    "\n",
    "from wordcloud import WordCloud, STOPWORDS, ImageColorGenerator"
   ]
  },
  {
   "cell_type": "code",
   "execution_count": 0,
   "metadata": {
    "colab": {
     "base_uri": "https://localhost:8080/",
     "height": 308
    },
    "colab_type": "code",
    "id": "IFh85OSxhzGV",
    "outputId": "842bd5aa-5ce2-4f4d-d84e-b7b48025b561"
   },
   "outputs": [
    {
     "data": {
      "image/png": "[encoded data removed]",
      "text/plain": [
       "<Figure size 432x288 with 1 Axes>"
      ]
     },
     "metadata": {
      "tags": []
     },
     "output_type": "display_data"
    }
   ],
   "source": [
    "\n",
    "negat_senti = df4.loc[df4[''] == 1, ['filt_sent']]\n",
    "posit_senti = df4.loc[df4['sentiment'] == 0, ['filt_sent']]\n",
    "\n",
    "#STOPWORDS = stopwords.words('english')\n",
    "stopwords = set(STOPWORDS)\n",
    "stopwords.update(['loved', 'good', 'lion king', 'movie', 'wa', 'good', 'film', 'didnt', 'original', 'amazing',\\\n",
    "                 'great', 'lion', 'king', 'great', 'amazing', 'remake', 'disney', 'animal', 'awesome',\\\n",
    "                 'see', 'really', 'well', 'one', 'done', 'better', 'time', 'much',\\\n",
    "                 'still', 'way', 'thing','feel', 'made', 'shot', 'part', 'new', 'felt',\\\n",
    "                 'even','liked', 'like', 'would'])\n",
    "\n",
    "\n",
    "def get_top_n_words(corpus, n=None):\n",
    "    vec = CountVectorizer(stop_words = stopwords).fit(corpus)\n",
    "    bag_of_words = vec.transform(corpus)\n",
    "    sum_words = bag_of_words.sum(axis=0) \n",
    "    words_freq = [(word, sum_words[0, idx]) for word, idx in vec.vocabulary_.items()]\n",
    "    words_freq =sorted(words_freq, key = lambda x: x[1], reverse=True)\n",
    "    return words_freq[:n]\n",
    "\n",
    "  \n",
    "common_words = get_top_n_words(negat_senti['filt_sent'], 15)\n",
    "uni_posit = pd.DataFrame(common_words, columns = ['ReviewText' , 'count'])\n",
    "uni_posit.groupby('ReviewText').sum()['count'].sort_values(ascending=True).plot.barh()\n",
    "\n",
    "\n",
    "plt.xlabel('count', fontsize=15, color = 'black')\n",
    "plt.ylabel('ReviewText', fontsize=15, color = 'black')\n",
    "plt.title('Top 15 words in Negative Reviews', fontsize=20, color = 'red')\n",
    "plt.show()"
   ]
  },
  {
   "cell_type": "code",
   "execution_count": 0,
   "metadata": {
    "colab": {
     "base_uri": "https://localhost:8080/",
     "height": 308
    },
    "colab_type": "code",
    "id": "Xr-JkYn_mLc1",
    "outputId": "baf51369-9736-48f7-ae16-d34fcaddf775"
   },
   "outputs": [
    {
     "data": {
      "image/png": "[encoded data removed]",
      "text/plain": [
       "<Figure size 432x288 with 1 Axes>"
      ]
     },
     "metadata": {
      "tags": []
     },
     "output_type": "display_data"
    }
   ],
   "source": [
    "common_words = get_top_n_words(posit_senti['filt_sent'], 15)\n",
    "uni_posit = pd.DataFrame(common_words, columns = ['ReviewText' , 'count'])\n",
    "uni_posit.groupby('ReviewText').sum()['count'].sort_values(ascending=True).plot.barh()\n",
    "\n",
    "plt.xlabel('count')\n",
    "plt.title('Top 15 Words in Positive Reviews', fontsize=20, color = 'red')\n",
    "plt.xlabel('count', fontsize=15, color = 'black')\n",
    "plt.ylabel('ReviewText', fontsize=15, color = 'black')\n",
    "plt.show()"
   ]
  },
  {
   "cell_type": "code",
   "execution_count": 0,
   "metadata": {
    "colab": {
     "base_uri": "https://localhost:8080/",
     "height": 51
    },
    "colab_type": "code",
    "id": "8e-NpTiwAQaM",
    "outputId": "779b7525-03f2-4460-b4ed-3bc794d89e92"
   },
   "outputs": [
    {
     "name": "stdout",
     "output_type": "stream",
     "text": [
      "There are 164423 words in the combination of all negative review.\n",
      "There are 218007 words in the combination of all positive review.\n"
     ]
    }
   ],
   "source": [
    "from wordcloud import WordCloud, STOPWORDS, ImageColorGenerator\n",
    "\n",
    "\n",
    "negat_senti = df4.loc[df4['sentiment'] == 1, ['filt_sent']]\n",
    "posit_senti = df4.loc[df4['sentiment'] == 0, ['filt_sent']]\n",
    "\n",
    "negat_text = \" \".join(review for review in negat_senti.filt_sent)\n",
    "print (\"There are {} words in the combination of all negative review.\".format(len(negat_text)))\n",
    "\n",
    "posit_text = \" \".join(review for review in posit_senti.filt_sent)\n",
    "print (\"There are {} words in the combination of all positive review.\".format(len(posit_text)))\n",
    "\n",
    "stopwords = set(STOPWORDS)\n",
    "stopwords.update(['loved', 'good', 'lion king', 'movie', 'wa', 'good', 'film', 'didnt', 'original', 'amazing',\\\n",
    "                 'great', 'lion', 'king', 'great', 'amazing', 'remake', 'disney', 'animal', 'awesome',\\\n",
    "                 'see', 'really', 'well', 'one', 'done', 'better', 'time', 'much',\\\n",
    "                 'still', 'way', 'thing','feel', 'made', 'shot', 'part', 'new', 'felt',\\\n",
    "                 'even','liked', 'enjoyed'])\n",
    "# Generate a word cloud image\n",
    "wordcloud_negat = WordCloud(stopwords=stopwords, background_color=\"white\",\\\n",
    "                           max_font_size=50, max_words=100).generate(negat_text)\n",
    "wordcloud_posit = WordCloud(stopwords=stopwords, background_color=\"white\",\\\n",
    "                           max_font_size=50, max_words=100).generate(posit_text)\n"
   ]
  },
  {
   "cell_type": "code",
   "execution_count": 0,
   "metadata": {
    "colab": {
     "base_uri": "https://localhost:8080/",
     "height": 239
    },
    "colab_type": "code",
    "id": "htpjU5z0P5MF",
    "outputId": "1ac6f4eb-e728-45ea-fbd7-8b7c88300459"
   },
   "outputs": [
    {
     "data": {
      "image/png": "[encoded data removed]",
      "text/plain": [
       "<Figure size 432x288 with 1 Axes>"
      ]
     },
     "metadata": {
      "tags": []
     },
     "output_type": "display_data"
    }
   ],
   "source": [
    "# Display the generated image:\n",
    "# the matplotlib way:\n",
    "\n",
    "plt.imshow(wordcloud_posit, interpolation='bilinear')\n",
    "plt.title('Positive Reviews Wordcloud', fontsize=20, color = 'red')\n",
    "plt.axis(\"off\")\n",
    "plt.show()\n"
   ]
  },
  {
   "cell_type": "code",
   "execution_count": 0,
   "metadata": {
    "colab": {
     "base_uri": "https://localhost:8080/",
     "height": 239
    },
    "colab_type": "code",
    "id": "dUI52k2kAQJW",
    "outputId": "469dce88-19a0-4809-c2d8-45f3733cf30a"
   },
   "outputs": [
    {
     "data": {
      "image/png": "[encoded data removed]",
      "text/plain": [
       "<Figure size 432x288 with 1 Axes>"
      ]
     },
     "metadata": {
      "tags": []
     },
     "output_type": "display_data"
    }
   ],
   "source": [
    "# Display the generated image:\n",
    "# the matplotlib way:\n",
    "\n",
    "plt.imshow(wordcloud_negat, interpolation='bilinear')\n",
    "plt.title('Negative Reviews Wordcloud', fontsize=20, color = 'red')\n",
    "plt.axis(\"off\")\n",
    "plt.show()"
   ]
  },
  {
   "cell_type": "code",
   "execution_count": 0,
   "metadata": {
    "colab": {
     "base_uri": "https://localhost:8080/",
     "height": 308
    },
    "colab_type": "code",
    "id": "ZcR_6ZKB0mFr",
    "outputId": "52e83182-a157-4db9-9908-56cf0adc428b"
   },
   "outputs": [
    {
     "data": {
      "image/png": "[encoded data removed]",
      "text/plain": [
       "<Figure size 432x288 with 1 Axes>"
      ]
     },
     "metadata": {
      "tags": []
     },
     "output_type": "display_data"
    }
   ],
   "source": [
    "negat_senti = df4.loc[df4['sentiment'] == 1, ['filt_sent']]\n",
    "posit_senti = df4.loc[df4['sentiment'] == 0, ['filt_sent']]\n",
    "\n",
    "def get_top_n_trigram(corpus, n=None):\n",
    "    vec = CountVectorizer(ngram_range=(2, 3), stop_words= stopwords).fit(corpus)\n",
    "    bag_of_words = vec.transform(corpus)\n",
    "    sum_words = bag_of_words.sum(axis=0) \n",
    "    words_freq = [(word, sum_words[0, idx]) for word, idx in vec.vocabulary_.items()]\n",
    "    words_freq =sorted(words_freq, key = lambda x: x[1], reverse=True)\n",
    "    return words_freq[:n]\n",
    "  \n",
    "common_words = get_top_n_trigram(posit_senti['filt_sent'], 15)\n",
    "   \n",
    "trigram_posit = pd.DataFrame(common_words, columns = ['ReviewText' , 'count'])\n",
    "trigram_posit.groupby('ReviewText').sum()['count'].sort_values(ascending=True).plot.barh()\n",
    "plt.title('Top 15 bigrams in Positive Reviews', fontsize=20, color = 'red')\n",
    "plt.xlabel('count')\n",
    "plt.xticks(list(range(0,22, 4)))\n",
    "plt.xlabel('count', fontsize=15, color = 'black')\n",
    "plt.ylabel('ReviewText', fontsize=15, color = 'black')\n",
    "plt.show()\n"
   ]
  },
  {
   "cell_type": "code",
   "execution_count": 0,
   "metadata": {
    "colab": {
     "base_uri": "https://localhost:8080/",
     "height": 308
    },
    "colab_type": "code",
    "id": "ewA-J_iV0ueN",
    "outputId": "8b2fe29d-6fa1-447d-b709-a01e25bd8b2f"
   },
   "outputs": [
    {
     "data": {
      "image/png": "[encoded data removed]",
      "text/plain": [
       "<Figure size 432x288 with 1 Axes>"
      ]
     },
     "metadata": {
      "tags": []
     },
     "output_type": "display_data"
    }
   ],
   "source": [
    "  \n",
    "common_words = get_top_n_trigram(negat_senti['filt_sent'], 15)\n",
    "    \n",
    "trigram_negat = pd.DataFrame(common_words, columns = ['ReviewText' , 'count'])\n",
    "trigram_negat.groupby('ReviewText').sum()['count'].sort_values(ascending=True).plot.barh(x='ReviewText', y='count')\n",
    "\n",
    "plt.title('Top 15 bigrams in Negative Reviews', fontsize=20, color = 'red')\n",
    "plt.xlabel('count')\n",
    "plt.xticks(list(range(0,22, 4)))\n",
    "plt.xlabel('count', fontsize=15, color = 'black')\n",
    "plt.ylabel('ReviewText', fontsize=15, color = 'black')\n",
    "plt.show()"
   ]
  },
  {
   "cell_type": "markdown",
   "metadata": {
    "colab_type": "text",
    "id": "eA437AjJeYOI"
   },
   "source": [
    "# Task 4: Sentiment classification using supervised learning algorithems"
   ]
  },
  {
   "cell_type": "code",
   "execution_count": 0,
   "metadata": {
    "colab": {},
    "colab_type": "code",
    "id": "WIpT8tQajL8g"
   },
   "outputs": [],
   "source": [
    "from sklearn.linear_model import LogisticRegression\n",
    "from sklearn.metrics import f1_score\n",
    "from sklearn.model_selection import train_test_split"
   ]
  },
  {
   "cell_type": "code",
   "execution_count": 0,
   "metadata": {
    "colab": {},
    "colab_type": "code",
    "id": "pkACqIU5BJj0"
   },
   "outputs": [],
   "source": []
  },
  {
   "cell_type": "code",
   "execution_count": 137,
   "metadata": {
    "colab": {
     "base_uri": "https://localhost:8080/",
     "height": 204
    },
    "colab_type": "code",
    "id": "9nu9cooVGrPP",
    "outputId": "a837b932-205f-450b-bf4a-e0eaeaf1aa8e"
   },
   "outputs": [
    {
     "data": {
      "text/html": [
       "<div>\n",
       "<style scoped>\n",
       "    .dataframe tbody tr th:only-of-type {\n",
       "        vertical-align: middle;\n",
       "    }\n",
       "\n",
       "    .dataframe tbody tr th {\n",
       "        vertical-align: top;\n",
       "    }\n",
       "\n",
       "    .dataframe thead th {\n",
       "        text-align: right;\n",
       "    }\n",
       "</style>\n",
       "<table border=\"1\" class=\"dataframe\">\n",
       "  <thead>\n",
       "    <tr style=\"text-align: right;\">\n",
       "      <th></th>\n",
       "      <th>ReviewID</th>\n",
       "      <th>Review</th>\n",
       "    </tr>\n",
       "  </thead>\n",
       "  <tbody>\n",
       "    <tr>\n",
       "      <th>0</th>\n",
       "      <td>92876</td>\n",
       "      <td>Was good. Nothing like the original but I beli...</td>\n",
       "    </tr>\n",
       "    <tr>\n",
       "      <th>1</th>\n",
       "      <td>92877</td>\n",
       "      <td>I absolutely loved it! A wonderful rendition o...</td>\n",
       "    </tr>\n",
       "    <tr>\n",
       "      <th>2</th>\n",
       "      <td>92878</td>\n",
       "      <td>I love the movie! Good job director! \\nI appre...</td>\n",
       "    </tr>\n",
       "    <tr>\n",
       "      <th>3</th>\n",
       "      <td>92879</td>\n",
       "      <td>GREAT MOVIE!!  Same as the original, but the c...</td>\n",
       "    </tr>\n",
       "    <tr>\n",
       "      <th>4</th>\n",
       "      <td>92880</td>\n",
       "      <td>Realistic.   Fantastic special effects</td>\n",
       "    </tr>\n",
       "  </tbody>\n",
       "</table>\n",
       "</div>"
      ],
      "text/plain": [
       "   ReviewID                                             Review\n",
       "0     92876  Was good. Nothing like the original but I beli...\n",
       "1     92877  I absolutely loved it! A wonderful rendition o...\n",
       "2     92878  I love the movie! Good job director! \\nI appre...\n",
       "3     92879  GREAT MOVIE!!  Same as the original, but the c...\n",
       "4     92880             Realistic.   Fantastic special effects"
      ]
     },
     "metadata": {
      "tags": []
     },
     "output_type": "display_data"
    }
   ],
   "source": [
    "test_df = pd.read_csv(\"/content/drive/My Drive/INSOFE/Text_Mining/phd/test-1566381431512.csv\")\n",
    "display(test_df.head())\n"
   ]
  },
  {
   "cell_type": "code",
   "execution_count": 0,
   "metadata": {
    "colab": {},
    "colab_type": "code",
    "id": "yezLLJ2s2MN3"
   },
   "outputs": [],
   "source": [
    "test_df['Review'] = test_df['Review'].apply(preprocessing)\n",
    "display(test_df.head())"
   ]
  },
  {
   "cell_type": "code",
   "execution_count": 0,
   "metadata": {
    "colab": {},
    "colab_type": "code",
    "id": "lBodOjTWODh8"
   },
   "outputs": [],
   "source": [
    "test_df['filt_sent'] = test_df['Review']"
   ]
  },
  {
   "cell_type": "code",
   "execution_count": 0,
   "metadata": {
    "colab": {
     "base_uri": "https://localhost:8080/",
     "height": 173
    },
    "colab_type": "code",
    "id": "39Jk50LKNS3j",
    "outputId": "ae0e8f71-f294-47b8-d147-541a63fabb45"
   },
   "outputs": [
    {
     "name": "stderr",
     "output_type": "stream",
     "text": [
      "/usr/local/lib/python3.6/dist-packages/ipykernel_launcher.py:1: FutureWarning: Sorting because non-concatenation axis is not aligned. A future version\n",
      "of pandas will change to not sort by default.\n",
      "\n",
      "To accept the future behavior, pass 'sort=False'.\n",
      "\n",
      "To retain the current behavior and silence the warning, pass 'sort=True'.\n",
      "\n",
      "  \"\"\"Entry point for launching an IPython kernel.\n"
     ]
    }
   ],
   "source": [
    "total_df = pd.concat([df3, test_df])"
   ]
  },
  {
   "cell_type": "code",
   "execution_count": 0,
   "metadata": {
    "colab": {
     "base_uri": "https://localhost:8080/",
     "height": 204
    },
    "colab_type": "code",
    "id": "bW5x1EmRR9vX",
    "outputId": "e2578e6c-ac4c-4fbb-89a5-8bac42f4d4ac"
   },
   "outputs": [
    {
     "data": {
      "text/html": [
       "<div>\n",
       "<style scoped>\n",
       "    .dataframe tbody tr th:only-of-type {\n",
       "        vertical-align: middle;\n",
       "    }\n",
       "\n",
       "    .dataframe tbody tr th {\n",
       "        vertical-align: top;\n",
       "    }\n",
       "\n",
       "    .dataframe thead th {\n",
       "        text-align: right;\n",
       "    }\n",
       "</style>\n",
       "<table border=\"1\" class=\"dataframe\">\n",
       "  <thead>\n",
       "    <tr style=\"text-align: right;\">\n",
       "      <th></th>\n",
       "      <th>Review</th>\n",
       "      <th>ReviewID</th>\n",
       "      <th>filt_sent</th>\n",
       "      <th>sentiment</th>\n",
       "    </tr>\n",
       "  </thead>\n",
       "  <tbody>\n",
       "    <tr>\n",
       "      <th>0</th>\n",
       "      <td>NaN</td>\n",
       "      <td>NaN</td>\n",
       "      <td>didnt make me feel anything unlike original</td>\n",
       "      <td>1.0</td>\n",
       "    </tr>\n",
       "    <tr>\n",
       "      <th>1</th>\n",
       "      <td>NaN</td>\n",
       "      <td>NaN</td>\n",
       "      <td>well done great way to redo classic it felt pa...</td>\n",
       "      <td>0.0</td>\n",
       "    </tr>\n",
       "    <tr>\n",
       "      <th>2</th>\n",
       "      <td>NaN</td>\n",
       "      <td>NaN</td>\n",
       "      <td>good movie just that original animated wa bett...</td>\n",
       "      <td>0.0</td>\n",
       "    </tr>\n",
       "    <tr>\n",
       "      <th>3</th>\n",
       "      <td>NaN</td>\n",
       "      <td>NaN</td>\n",
       "      <td>didn like beyoncé being nala bad acting didn l...</td>\n",
       "      <td>1.0</td>\n",
       "    </tr>\n",
       "    <tr>\n",
       "      <th>4</th>\n",
       "      <td>NaN</td>\n",
       "      <td>NaN</td>\n",
       "      <td>such beautiful story weve loved animated versi...</td>\n",
       "      <td>0.0</td>\n",
       "    </tr>\n",
       "  </tbody>\n",
       "</table>\n",
       "</div>"
      ],
      "text/plain": [
       "  Review  ...  sentiment\n",
       "0    NaN  ...        1.0\n",
       "1    NaN  ...        0.0\n",
       "2    NaN  ...        0.0\n",
       "3    NaN  ...        1.0\n",
       "4    NaN  ...        0.0\n",
       "\n",
       "[5 rows x 4 columns]"
      ]
     },
     "execution_count": 34,
     "metadata": {
      "tags": []
     },
     "output_type": "execute_result"
    }
   ],
   "source": [
    "total_df.head()"
   ]
  },
  {
   "cell_type": "code",
   "execution_count": 0,
   "metadata": {
    "colab": {
     "base_uri": "https://localhost:8080/",
     "height": 34
    },
    "colab_type": "code",
    "id": "dPsLOjL8O0Rd",
    "outputId": "a4e59bee-4ded-466a-ac3b-3656beb64bd4"
   },
   "outputs": [
    {
     "data": {
      "text/plain": [
       "(4200, 116019)"
      ]
     },
     "execution_count": 35,
     "metadata": {
      "tags": []
     },
     "output_type": "execute_result"
    }
   ],
   "source": [
    "cv_total_df = CountVectorizer(binary=False, ngram_range = (1, 3))\n",
    "cv_total_df.fit(total_df['filt_sent'])\n",
    "X_total_df = cv_total_df.transform(total_df['filt_sent'])\n",
    "\n",
    "X_total_df.shape"
   ]
  },
  {
   "cell_type": "code",
   "execution_count": 0,
   "metadata": {
    "colab": {},
    "colab_type": "code",
    "id": "_8wf9bS-WTxM"
   },
   "outputs": [],
   "source": [
    "total_array_df = pd.DataFrame(X_total_df.toarray())\n",
    "complete_df = total_df.join(total_array_df)"
   ]
  },
  {
   "cell_type": "code",
   "execution_count": 0,
   "metadata": {
    "colab": {},
    "colab_type": "code",
    "id": "8J2joGRAQ88S"
   },
   "outputs": [],
   "source": [
    "total_test = complete_df.loc[complete_df.ReviewID.notnull()]\n",
    "total_test.shape"
   ]
  },
  {
   "cell_type": "code",
   "execution_count": 0,
   "metadata": {
    "colab": {},
    "colab_type": "code",
    "id": "x5fe-VLpXtFd"
   },
   "outputs": [],
   "source": [
    "total_train = complete_df.loc[complete_df.sentiment.notnull()]\n",
    "total_train.shape"
   ]
  },
  {
   "cell_type": "code",
   "execution_count": 0,
   "metadata": {
    "colab": {},
    "colab_type": "code",
    "id": "YnQUVUANY9Z5"
   },
   "outputs": [],
   "source": [
    "X_train, X_val, y_train, y_val = train_test_split(\n",
    "    total_train.iloc[:, 4:46140], total_train.iloc[:,[3]], train_size = 0.75)\n",
    "#df4.drop(['filt_sent', 'sentiment'], axis = 1)\n",
    "for c in [0.5, 1, 3, 4, 4.5]:\n",
    "    \n",
    "    lr = LogisticRegression(C=c)\n",
    "    lr.fit(X_train, y_train)\n",
    "    print (\"f1_score for C=%s: %s\" \n",
    "           % (c, f1_score(y_val, lr.predict(X_val))))"
   ]
  },
  {
   "cell_type": "code",
   "execution_count": 0,
   "metadata": {
    "colab": {},
    "colab_type": "code",
    "id": "psKkNI0Qe7LL"
   },
   "outputs": [],
   "source": [
    "lr = LogisticRegression(C=3)\n",
    "lr.fit(X_train, y_train)"
   ]
  },
  {
   "cell_type": "code",
   "execution_count": 0,
   "metadata": {
    "colab": {},
    "colab_type": "code",
    "id": "9QxOAj-KcMef"
   },
   "outputs": [],
   "source": [
    "subm_LR_final = total_test.iloc[:,[1]].join(pd.DataFrame(lr.predict(total_test.iloc[:, 4:46140])))\n",
    "subm_LR_final.columns = ['ReviewID', 'sentiment']\n",
    "subm_LR_final.head()"
   ]
  },
  {
   "cell_type": "code",
   "execution_count": 0,
   "metadata": {
    "colab": {},
    "colab_type": "code",
    "id": "VHAdwNQUhE_O"
   },
   "outputs": [],
   "source": [
    "subm_LR_finals = subm_LR_final.set_index('ReviewID')\n",
    "subm_LR_finals.head()"
   ]
  },
  {
   "cell_type": "code",
   "execution_count": 0,
   "metadata": {
    "colab": {},
    "colab_type": "code",
    "id": "fymBbdslO0On"
   },
   "outputs": [],
   "source": [
    "from google.colab import files\n",
    "subm_LR_finals.to_csv('subm_LR_finals.csv') \n",
    "files.download('subm_LR_finals.csv')"
   ]
  },
  {
   "cell_type": "code",
   "execution_count": 0,
   "metadata": {
    "colab": {},
    "colab_type": "code",
    "id": "qL9z5bLjxepp"
   },
   "outputs": [],
   "source": []
  },
  {
   "cell_type": "code",
   "execution_count": 0,
   "metadata": {
    "colab": {},
    "colab_type": "code",
    "id": "EJrHDgcMO0L1"
   },
   "outputs": [],
   "source": [
    "# necessary imports\n",
    "from sklearn.feature_extraction.text import TfidfVectorizer\n",
    "\n",
    "\n",
    "tfidf_vectorizer = TfidfVectorizer(ngram_range=(1,4),max_features=5000)\n",
    "data_features = tfidf_vectorizer.fit_transform(df3['filt_sent'])\n"
   ]
  },
  {
   "cell_type": "code",
   "execution_count": 0,
   "metadata": {
    "colab": {},
    "colab_type": "code",
    "id": "kLUe868tO0JA"
   },
   "outputs": [],
   "source": [
    "X_train, X_val, y_train, y_val = train_test_split(\n",
    "    data_features, df4.iloc[:,[1]], train_size = 0.75)\n",
    "#df4.drop(['filt_sent', 'sentiment'], axis = 1)\n"
   ]
  },
  {
   "cell_type": "code",
   "execution_count": 0,
   "metadata": {
    "colab": {
     "base_uri": "https://localhost:8080/",
     "height": 34
    },
    "colab_type": "code",
    "id": "wOrEKsOQ-OcI",
    "outputId": "67ddd302-f533-482d-af48-ce48d9751b9e"
   },
   "outputs": [
    {
     "name": "stdout",
     "output_type": "stream",
     "text": [
      "class imbalance, 0.2773333333333333\n"
     ]
    }
   ],
   "source": [
    "print(\"class imbalance, {}\".format(y_train['sentiment'].value_counts()[1] / y_train.shape[0]))"
   ]
  },
  {
   "cell_type": "code",
   "execution_count": 0,
   "metadata": {
    "colab": {
     "base_uri": "https://localhost:8080/",
     "height": 71
    },
    "colab_type": "code",
    "id": "H2oMvCZh--Cv",
    "outputId": "858dc7e9-5cf2-4e2a-a8af-cbb18ebe5e82"
   },
   "outputs": [
    {
     "name": "stderr",
     "output_type": "stream",
     "text": [
      "/usr/local/lib/python3.6/dist-packages/sklearn/utils/validation.py:724: DataConversionWarning: A column-vector y was passed when a 1d array was expected. Please change the shape of y to (n_samples, ), for example using ravel().\n",
      "  y = column_or_1d(y, warn=True)\n"
     ]
    }
   ],
   "source": [
    "from imblearn.over_sampling import SMOTE\n",
    "smt = SMOTE()\n",
    "X_train, y_train = smt.fit_sample(X_train, y_train)"
   ]
  },
  {
   "cell_type": "code",
   "execution_count": 0,
   "metadata": {
    "colab": {
     "base_uri": "https://localhost:8080/",
     "height": 85
    },
    "colab_type": "code",
    "id": "tNuWK54o_Cfv",
    "outputId": "ca8d4a4d-8a65-40ff-92db-32f8f0bb4f7d"
   },
   "outputs": [
    {
     "name": "stdout",
     "output_type": "stream",
     "text": [
      "balance class\n",
      " 1    1626\n",
      "0    1626\n",
      "dtype: int64\n"
     ]
    }
   ],
   "source": [
    "print(\"balance class\\n {}\".format(pd.Series(y_train).value_counts()))"
   ]
  },
  {
   "cell_type": "code",
   "execution_count": null,
   "metadata": {},
   "outputs": [],
   "source": []
  },
  {
   "cell_type": "code",
   "execution_count": 0,
   "metadata": {
    "colab": {
     "base_uri": "https://localhost:8080/",
     "height": 156
    },
    "colab_type": "code",
    "id": "NYempiZl9wLa",
    "outputId": "ca47215f-1467-4424-9ba7-84995670ed22"
   },
   "outputs": [
    {
     "name": "stdout",
     "output_type": "stream",
     "text": [
      "f1_score for C=0.2: 0.7352941176470588\n",
      "f1_score for C=0.5: 0.7366167023554604\n",
      "f1_score for C=1: 0.7232142857142857\n",
      "f1_score for C=3: 0.7260273972602739\n",
      "f1_score for C=4: 0.7260273972602739\n"
     ]
    },
    {
     "name": "stderr",
     "output_type": "stream",
     "text": [
      "/usr/local/lib/python3.6/dist-packages/sklearn/linear_model/logistic.py:432: FutureWarning: Default solver will be changed to 'lbfgs' in 0.22. Specify a solver to silence this warning.\n",
      "  FutureWarning)\n"
     ]
    }
   ],
   "source": [
    "for c in [0.2, 0.5, 1, 3,4]:\n",
    "    \n",
    "    lr = LogisticRegression(C=c)\n",
    "    lr.fit(X_train, y_train)\n",
    "    print (\"f1_score for C=%s: %s\" \n",
    "           % (c, f1_score(y_val, lr.predict(X_val))))"
   ]
  },
  {
   "cell_type": "code",
   "execution_count": 0,
   "metadata": {
    "colab": {
     "base_uri": "https://localhost:8080/",
     "height": 71
    },
    "colab_type": "code",
    "id": "8Xhz-tIBEWep",
    "outputId": "7637e03b-9014-4136-fd1f-ee7046e2be3a"
   },
   "outputs": [
    {
     "name": "stderr",
     "output_type": "stream",
     "text": [
      "/usr/local/lib/python3.6/dist-packages/sklearn/utils/validation.py:724: DataConversionWarning: A column-vector y was passed when a 1d array was expected. Please change the shape of y to (n_samples, ), for example using ravel().\n",
      "  y = column_or_1d(y, warn=True)\n"
     ]
    }
   ],
   "source": [
    "X_train, y_train = smt.fit_sample(data_features, df4.iloc[:,[1]])"
   ]
  },
  {
   "cell_type": "code",
   "execution_count": 0,
   "metadata": {
    "colab": {
     "base_uri": "https://localhost:8080/",
     "height": 85
    },
    "colab_type": "code",
    "id": "YsWspklfE9i4",
    "outputId": "7d7b0b84-ca45-4085-8cf3-588ad176ecbe"
   },
   "outputs": [
    {
     "name": "stdout",
     "output_type": "stream",
     "text": [
      "balance class\n",
      " 1    2173\n",
      "0    2173\n",
      "dtype: int64\n"
     ]
    }
   ],
   "source": [
    "print(\"balance class\\n {}\".format(pd.Series(y_train).value_counts()))"
   ]
  },
  {
   "cell_type": "code",
   "execution_count": 0,
   "metadata": {
    "colab": {
     "base_uri": "https://localhost:8080/",
     "height": 88
    },
    "colab_type": "code",
    "id": "ZaeaJqPe9ule",
    "outputId": "0f9f2c86-1ae9-458c-fc5b-589abb46fca3"
   },
   "outputs": [
    {
     "name": "stderr",
     "output_type": "stream",
     "text": [
      "/usr/local/lib/python3.6/dist-packages/sklearn/linear_model/logistic.py:432: FutureWarning: Default solver will be changed to 'lbfgs' in 0.22. Specify a solver to silence this warning.\n",
      "  FutureWarning)\n"
     ]
    },
    {
     "data": {
      "text/plain": [
       "array([1, 0, 1, ..., 1, 0, 1])"
      ]
     },
     "execution_count": 109,
     "metadata": {
      "tags": []
     },
     "output_type": "execute_result"
    }
   ],
   "source": [
    "lr = LogisticRegression(C=3)\n",
    "lr.fit(X_train, y_train)\n",
    "data_features_LR = tfidf_vectorizer.fit_transform(test_df['Review'])\n",
    "lr.predict(data_features_LR)"
   ]
  },
  {
   "cell_type": "code",
   "execution_count": 0,
   "metadata": {
    "colab": {
     "base_uri": "https://localhost:8080/",
     "height": 235
    },
    "colab_type": "code",
    "id": "wQKTe9gyDXjC",
    "outputId": "17746933-1d20-4286-b0c3-c9dacbb6d9da"
   },
   "outputs": [
    {
     "data": {
      "text/html": [
       "<div>\n",
       "<style scoped>\n",
       "    .dataframe tbody tr th:only-of-type {\n",
       "        vertical-align: middle;\n",
       "    }\n",
       "\n",
       "    .dataframe tbody tr th {\n",
       "        vertical-align: top;\n",
       "    }\n",
       "\n",
       "    .dataframe thead th {\n",
       "        text-align: right;\n",
       "    }\n",
       "</style>\n",
       "<table border=\"1\" class=\"dataframe\">\n",
       "  <thead>\n",
       "    <tr style=\"text-align: right;\">\n",
       "      <th></th>\n",
       "      <th>sentiment</th>\n",
       "    </tr>\n",
       "    <tr>\n",
       "      <th>ReviewID</th>\n",
       "      <th></th>\n",
       "    </tr>\n",
       "  </thead>\n",
       "  <tbody>\n",
       "    <tr>\n",
       "      <th>92876</th>\n",
       "      <td>1</td>\n",
       "    </tr>\n",
       "    <tr>\n",
       "      <th>92877</th>\n",
       "      <td>0</td>\n",
       "    </tr>\n",
       "    <tr>\n",
       "      <th>92878</th>\n",
       "      <td>1</td>\n",
       "    </tr>\n",
       "    <tr>\n",
       "      <th>92879</th>\n",
       "      <td>1</td>\n",
       "    </tr>\n",
       "    <tr>\n",
       "      <th>92880</th>\n",
       "      <td>0</td>\n",
       "    </tr>\n",
       "  </tbody>\n",
       "</table>\n",
       "</div>"
      ],
      "text/plain": [
       "          sentiment\n",
       "ReviewID           \n",
       "92876             1\n",
       "92877             0\n",
       "92878             1\n",
       "92879             1\n",
       "92880             0"
      ]
     },
     "execution_count": 110,
     "metadata": {
      "tags": []
     },
     "output_type": "execute_result"
    }
   ],
   "source": [
    "sub_lr = test_df.loc[:, ['ReviewID']].join(pd.DataFrame(lr.predict(data_features_LR)))\n",
    "sub_lr.columns = ['ReviewID', 'sentiment']\n",
    "sub_lr = sub_lr.set_index('ReviewID')\n",
    "sub_lr.head()"
   ]
  },
  {
   "cell_type": "code",
   "execution_count": 0,
   "metadata": {
    "colab": {},
    "colab_type": "code",
    "id": "GI8gEV1rJwJ4"
   },
   "outputs": [],
   "source": [
    "from google.colab import files\n",
    "sub_lr.to_csv('sub_lr.csv') \n",
    "files.download('sub_lr.csv')"
   ]
  },
  {
   "cell_type": "code",
   "execution_count": 0,
   "metadata": {
    "colab": {},
    "colab_type": "code",
    "id": "6AvgfwDDJREA"
   },
   "outputs": [],
   "source": []
  },
  {
   "cell_type": "code",
   "execution_count": 0,
   "metadata": {
    "colab": {},
    "colab_type": "code",
    "id": "oE5NyPX3R5QO"
   },
   "outputs": [],
   "source": [
    "\n",
    "from sklearn.svm import LinearSVC\n",
    "\n",
    "for c in [1, 2, 3, 3.5, 5]:\n",
    "    \n",
    "    svm = LinearSVC(C=c)\n",
    "    svm.fit(X_train, y_train)\n",
    "    print (\"f1_score for C=%s: %s\" \n",
    "           % (c, f1_score(y_val, svm.predict(X_val))))"
   ]
  },
  {
   "cell_type": "code",
   "execution_count": 0,
   "metadata": {
    "colab": {},
    "colab_type": "code",
    "id": "P1VG61YyR42g"
   },
   "outputs": [],
   "source": []
  },
  {
   "cell_type": "code",
   "execution_count": 0,
   "metadata": {
    "colab": {
     "base_uri": "https://localhost:8080/",
     "height": 34
    },
    "colab_type": "code",
    "id": "0AkTENpAuRPm",
    "outputId": "78da9ad1-9aa4-4591-967b-970483cc1f9c"
   },
   "outputs": [
    {
     "data": {
      "text/plain": [
       "array([1, 0, 0, ..., 0, 0, 0])"
      ]
     },
     "execution_count": 107,
     "metadata": {
      "tags": []
     },
     "output_type": "execute_result"
    }
   ],
   "source": [
    "svm_final = LinearSVC(C=2)\n",
    "svm_final.fit(data_features, df4.iloc[:,[1]])\n",
    "data_features_Lsvc = tfidf_vectorizer.fit_transform(test_df['Review'])\n",
    "svm_final.predict(data_features_Lsvc)"
   ]
  },
  {
   "cell_type": "code",
   "execution_count": 0,
   "metadata": {
    "colab": {
     "base_uri": "https://localhost:8080/",
     "height": 215
    },
    "colab_type": "code",
    "id": "7k1d14BhuRH1",
    "outputId": "f9e891f8-28b5-49cf-98cb-a51ef0aaeffd"
   },
   "outputs": [
    {
     "ename": "NameError",
     "evalue": "ignored",
     "output_type": "error",
     "traceback": [
      "\u001b[0;31m---------------------------------------------------------------------------\u001b[0m",
      "\u001b[0;31mNameError\u001b[0m                                 Traceback (most recent call last)",
      "\u001b[0;32m<ipython-input-105-ff81e7ebca91>\u001b[0m in \u001b[0;36m<module>\u001b[0;34m()\u001b[0m\n\u001b[0;32m----> 1\u001b[0;31m \u001b[0msub_svm\u001b[0m \u001b[0;34m=\u001b[0m \u001b[0mtest_df\u001b[0m\u001b[0;34m.\u001b[0m\u001b[0mloc\u001b[0m\u001b[0;34m[\u001b[0m\u001b[0;34m:\u001b[0m\u001b[0;34m,\u001b[0m \u001b[0;34m[\u001b[0m\u001b[0;34m'ReviewID'\u001b[0m\u001b[0;34m]\u001b[0m\u001b[0;34m]\u001b[0m\u001b[0;34m.\u001b[0m\u001b[0mjoin\u001b[0m\u001b[0;34m(\u001b[0m\u001b[0mpd\u001b[0m\u001b[0;34m.\u001b[0m\u001b[0mDataFrame\u001b[0m\u001b[0;34m(\u001b[0m\u001b[0msvm_final\u001b[0m\u001b[0;34m.\u001b[0m\u001b[0mpredict\u001b[0m\u001b[0;34m(\u001b[0m\u001b[0mdata_features_Lsvc\u001b[0m\u001b[0;34m)\u001b[0m\u001b[0;34m)\u001b[0m\u001b[0;34m)\u001b[0m\u001b[0;34m\u001b[0m\u001b[0;34m\u001b[0m\u001b[0m\n\u001b[0m\u001b[1;32m      2\u001b[0m \u001b[0msub_svm\u001b[0m\u001b[0;34m.\u001b[0m\u001b[0mcolumns\u001b[0m \u001b[0;34m=\u001b[0m \u001b[0;34m[\u001b[0m\u001b[0;34m'ReviewID'\u001b[0m\u001b[0;34m,\u001b[0m \u001b[0;34m'sentiment'\u001b[0m\u001b[0;34m]\u001b[0m\u001b[0;34m\u001b[0m\u001b[0;34m\u001b[0m\u001b[0m\n\u001b[1;32m      3\u001b[0m \u001b[0msub_svm\u001b[0m \u001b[0;34m=\u001b[0m \u001b[0msub_svm\u001b[0m\u001b[0;34m.\u001b[0m\u001b[0mset_index\u001b[0m\u001b[0;34m(\u001b[0m\u001b[0;34m'ReviewID'\u001b[0m\u001b[0;34m)\u001b[0m\u001b[0;34m\u001b[0m\u001b[0;34m\u001b[0m\u001b[0m\n\u001b[1;32m      4\u001b[0m \u001b[0msub_svm\u001b[0m\u001b[0;34m.\u001b[0m\u001b[0mhead\u001b[0m\u001b[0;34m(\u001b[0m\u001b[0;34m)\u001b[0m\u001b[0;34m\u001b[0m\u001b[0;34m\u001b[0m\u001b[0m\n",
      "\u001b[0;31mNameError\u001b[0m: name 'svm_final' is not defined"
     ]
    }
   ],
   "source": [
    "sub_svm = test_df.loc[:, ['ReviewID']].join(pd.DataFrame(svm_final.predict(data_features_Lsvc)))\n",
    "sub_svm.columns = ['ReviewID', 'sentiment']\n",
    "sub_svm = sub_svm.set_index('ReviewID')\n",
    "sub_svm.head()"
   ]
  },
  {
   "cell_type": "code",
   "execution_count": 0,
   "metadata": {
    "colab": {},
    "colab_type": "code",
    "id": "RDAOp543vy6d"
   },
   "outputs": [],
   "source": [
    "from google.colab import files\n",
    "sub_svm.to_csv('sub_svm.csv') \n",
    "files.download('sub_svm.csv')"
   ]
  },
  {
   "cell_type": "code",
   "execution_count": 0,
   "metadata": {
    "colab": {},
    "colab_type": "code",
    "id": "nsZ0pljbAq8g"
   },
   "outputs": [],
   "source": []
  },
  {
   "cell_type": "code",
   "execution_count": 0,
   "metadata": {
    "colab": {
     "base_uri": "https://localhost:8080/",
     "height": 34
    },
    "colab_type": "code",
    "id": "fm_1KCIDm6D4",
    "outputId": "d7332519-eb80-46b9-d8b3-08945b46353d"
   },
   "outputs": [
    {
     "name": "stdout",
     "output_type": "stream",
     "text": [
      "f1 score: 0.6335078534031414\n"
     ]
    }
   ],
   "source": [
    "from sklearn.naive_bayes import BernoulliNB\n",
    "\n",
    "#Create a Gaussian Classifier\n",
    "model = BernoulliNB(0.01)\n",
    "\n",
    "# Train the model using the training sets\n",
    "model.fit(X_train,y_train)\n",
    "\n",
    "#Predict Output\n",
    "print (\"f1 score: %s\" \n",
    "       % f1_score(y_val, model.predict(X_val)))"
   ]
  },
  {
   "cell_type": "code",
   "execution_count": 0,
   "metadata": {
    "colab": {},
    "colab_type": "code",
    "id": "wQP6EM7YR-0-"
   },
   "outputs": [],
   "source": []
  },
  {
   "cell_type": "code",
   "execution_count": 0,
   "metadata": {
    "colab": {},
    "colab_type": "code",
    "id": "ny9_GeaVapAw"
   },
   "outputs": [],
   "source": [
    "tfidf_vectorizer = TfidfVectorizer(ngram_range=(1,3),max_features=4000)\n",
    "data_features = tfidf_vectorizer.fit_transform(df3['filt_sent'])\n"
   ]
  },
  {
   "cell_type": "code",
   "execution_count": 0,
   "metadata": {
    "colab": {},
    "colab_type": "code",
    "id": "IthEaUwyy1yZ"
   },
   "outputs": [],
   "source": [
    "X_train, X_val, y_train, y_val = train_test_split(\n",
    "    data_features, df4.iloc[:,[1]], train_size = 0.85)\n",
    "#df4.drop(['filt_sent', 'sentiment'], axis = 1)"
   ]
  },
  {
   "cell_type": "code",
   "execution_count": 0,
   "metadata": {
    "colab": {},
    "colab_type": "code",
    "id": "64h-vIKWyRqC"
   },
   "outputs": [],
   "source": [
    "from imblearn.over_sampling import SMOTE\n",
    "smt = SMOTE()\n",
    "X_train, y_train = smt.fit_sample(X_train, y_train)"
   ]
  },
  {
   "cell_type": "code",
   "execution_count": 0,
   "metadata": {
    "colab": {},
    "colab_type": "code",
    "id": "_4UH9o8Y-KQY"
   },
   "outputs": [],
   "source": [
    "from sklearn.ensemble import GradientBoostingClassifier\n",
    "\n",
    "from sklearn.model_selection import GridSearchCV\n",
    "\n",
    "# Model in use\n",
    "GBM = GradientBoostingClassifier() \n",
    " \n",
    "# Use a grid over parameters of interest\n",
    "param_grid = { \n",
    "           \"n_estimators\" : [50, 100],\n",
    "           \"max_depth\" : [ 5, 7 ],\n",
    "           \"learning_rate\" : [0.5, 0.9]}\n",
    " \n",
    "CV_GBM = GridSearchCV(estimator=GBM, param_grid=param_grid, cv= 7)"
   ]
  },
  {
   "cell_type": "code",
   "execution_count": 0,
   "metadata": {
    "colab": {
     "base_uri": "https://localhost:8080/",
     "height": 442
    },
    "colab_type": "code",
    "id": "8x3OP9_Z-J8P",
    "outputId": "de013197-bfbb-460d-ce9c-528124506e7a"
   },
   "outputs": [
    {
     "name": "stdout",
     "output_type": "stream",
     "text": [
      "CPU times: user 30.4 s, sys: 57.6 ms, total: 30.4 s\n",
      "Wall time: 30.5 s\n"
     ]
    },
    {
     "data": {
      "text/plain": [
       "GridSearchCV(cv=5, error_score='raise-deprecating',\n",
       "             estimator=GradientBoostingClassifier(criterion='friedman_mse',\n",
       "                                                  init=None, learning_rate=0.1,\n",
       "                                                  loss='deviance', max_depth=3,\n",
       "                                                  max_features=None,\n",
       "                                                  max_leaf_nodes=None,\n",
       "                                                  min_impurity_decrease=0.0,\n",
       "                                                  min_impurity_split=None,\n",
       "                                                  min_samples_leaf=1,\n",
       "                                                  min_samples_split=2,\n",
       "                                                  min_weight_fraction_leaf=0.0,\n",
       "                                                  n_estimators=100,\n",
       "                                                  n_iter_no_change=None,\n",
       "                                                  presort='auto',\n",
       "                                                  random_state=None,\n",
       "                                                  subsample=1.0, tol=0.0001,\n",
       "                                                  validation_fraction=0.1,\n",
       "                                                  verbose=0, warm_start=False),\n",
       "             iid='warn', n_jobs=None,\n",
       "             param_grid={'learning_rate': [0.9], 'max_depth': [5],\n",
       "                         'n_estimators': [100]},\n",
       "             pre_dispatch='2*n_jobs', refit=True, return_train_score=False,\n",
       "             scoring=None, verbose=0)"
      ]
     },
     "execution_count": 104,
     "metadata": {
      "tags": []
     },
     "output_type": "execute_result"
    }
   ],
   "source": [
    "%time CV_GBM.fit(X=X_train, y=y_train)"
   ]
  },
  {
   "cell_type": "code",
   "execution_count": 0,
   "metadata": {
    "colab": {},
    "colab_type": "code",
    "id": "ic79Q34iyuet"
   },
   "outputs": [],
   "source": [
    "# Find best model\n",
    "best_gbm_model = CV_GBM.best_estimator_\n",
    "print (CV_GBM.best_score_, CV_GBM.best_params_)"
   ]
  },
  {
   "cell_type": "code",
   "execution_count": 0,
   "metadata": {
    "colab": {},
    "colab_type": "code",
    "id": "WO0PnEZf12L9"
   },
   "outputs": [],
   "source": [
    "y_pred_test=best_gbm_model.predict(X_val)\n"
   ]
  },
  {
   "cell_type": "code",
   "execution_count": 0,
   "metadata": {
    "colab": {
     "base_uri": "https://localhost:8080/",
     "height": 34
    },
    "colab_type": "code",
    "id": "e5vSUIEj1zd1",
    "outputId": "94c78204-d120-47c2-90f8-87eece118ebb"
   },
   "outputs": [
    {
     "name": "stdout",
     "output_type": "stream",
     "text": [
      "0.676923076923077\n"
     ]
    }
   ],
   "source": [
    "print(f1_score(y_val,y_pred_test))"
   ]
  },
  {
   "cell_type": "code",
   "execution_count": 0,
   "metadata": {
    "colab": {},
    "colab_type": "code",
    "id": "KeHmUC7c6cA7"
   },
   "outputs": [],
   "source": [
    "data_features_boost = tfidf_vectorizer.fit_transform(test_df['Review'])"
   ]
  },
  {
   "cell_type": "code",
   "execution_count": 0,
   "metadata": {
    "colab": {},
    "colab_type": "code",
    "id": "JugAdblGywp1"
   },
   "outputs": [],
   "source": [
    "y_pred_test_final = best_gbm_model.predict(data_features_boost)"
   ]
  },
  {
   "cell_type": "code",
   "execution_count": 0,
   "metadata": {
    "colab": {
     "base_uri": "https://localhost:8080/",
     "height": 34
    },
    "colab_type": "code",
    "id": "_wt-4QYJ5ohG",
    "outputId": "082ad250-ceea-4b2e-e025-74bd909baa05"
   },
   "outputs": [
    {
     "data": {
      "text/plain": [
       "array([0, 1, 0, ..., 0, 0, 0])"
      ]
     },
     "execution_count": 130,
     "metadata": {
      "tags": []
     },
     "output_type": "execute_result"
    }
   ],
   "source": [
    "y_pred_test_final"
   ]
  },
  {
   "cell_type": "code",
   "execution_count": 0,
   "metadata": {
    "colab": {},
    "colab_type": "code",
    "id": "TFHo43ZY5od2"
   },
   "outputs": [],
   "source": [
    "sub_boost = test_df.loc[:, ['ReviewID']].join(pd.DataFrame(y_pred_test_final))\n",
    "sub_boost.columns = ['ReviewID', 'sentiment']\n",
    "sub_boost = sub_boost.set_index('ReviewID')\n",
    "sub_boost.head()"
   ]
  },
  {
   "cell_type": "code",
   "execution_count": 0,
   "metadata": {
    "colab": {},
    "colab_type": "code",
    "id": "skI7SYhz5oby"
   },
   "outputs": [],
   "source": [
    "from google.colab import files\n",
    "sub_boost.to_csv('sub_boost.csv') \n",
    "files.download('sub_boost.csv')"
   ]
  },
  {
   "cell_type": "code",
   "execution_count": 0,
   "metadata": {
    "colab": {},
    "colab_type": "code",
    "id": "1k-tlrcB0xfK"
   },
   "outputs": [],
   "source": []
  },
  {
   "cell_type": "code",
   "execution_count": 0,
   "metadata": {
    "colab": {},
    "colab_type": "code",
    "id": "jseErAY70xdh"
   },
   "outputs": [],
   "source": [
    "reviews_train = df2\n",
    "reviews_test = test_df"
   ]
  },
  {
   "cell_type": "code",
   "execution_count": 151,
   "metadata": {
    "colab": {
     "base_uri": "https://localhost:8080/",
     "height": 204
    },
    "colab_type": "code",
    "id": "PQZUR_4q3Or5",
    "outputId": "67b32200-6bf5-4906-ed7a-afbb2d02b6f0"
   },
   "outputs": [
    {
     "data": {
      "text/html": [
       "<div>\n",
       "<style scoped>\n",
       "    .dataframe tbody tr th:only-of-type {\n",
       "        vertical-align: middle;\n",
       "    }\n",
       "\n",
       "    .dataframe tbody tr th {\n",
       "        vertical-align: top;\n",
       "    }\n",
       "\n",
       "    .dataframe thead th {\n",
       "        text-align: right;\n",
       "    }\n",
       "</style>\n",
       "<table border=\"1\" class=\"dataframe\">\n",
       "  <thead>\n",
       "    <tr style=\"text-align: right;\">\n",
       "      <th></th>\n",
       "      <th>Review</th>\n",
       "      <th>sentiment</th>\n",
       "    </tr>\n",
       "  </thead>\n",
       "  <tbody>\n",
       "    <tr>\n",
       "      <th>0</th>\n",
       "      <td>Didn't make me feel anything unlike the original.</td>\n",
       "      <td>1</td>\n",
       "    </tr>\n",
       "    <tr>\n",
       "      <th>1</th>\n",
       "      <td>Well done! A great way to redo a classic. It f...</td>\n",
       "      <td>0</td>\n",
       "    </tr>\n",
       "    <tr>\n",
       "      <th>2</th>\n",
       "      <td>Good movie.  Just that the original animated w...</td>\n",
       "      <td>0</td>\n",
       "    </tr>\n",
       "    <tr>\n",
       "      <th>3</th>\n",
       "      <td>I didn’t like Beyoncé being nala. Bad acting. ...</td>\n",
       "      <td>1</td>\n",
       "    </tr>\n",
       "    <tr>\n",
       "      <th>4</th>\n",
       "      <td>Such a beautiful story. We've loved the animat...</td>\n",
       "      <td>0</td>\n",
       "    </tr>\n",
       "  </tbody>\n",
       "</table>\n",
       "</div>"
      ],
      "text/plain": [
       "                                              Review  sentiment\n",
       "0  Didn't make me feel anything unlike the original.          1\n",
       "1  Well done! A great way to redo a classic. It f...          0\n",
       "2  Good movie.  Just that the original animated w...          0\n",
       "3  I didn’t like Beyoncé being nala. Bad acting. ...          1\n",
       "4  Such a beautiful story. We've loved the animat...          0"
      ]
     },
     "execution_count": 151,
     "metadata": {
      "tags": []
     },
     "output_type": "execute_result"
    }
   ],
   "source": [
    "reviews_train.head()"
   ]
  },
  {
   "cell_type": "code",
   "execution_count": 152,
   "metadata": {
    "colab": {
     "base_uri": "https://localhost:8080/",
     "height": 204
    },
    "colab_type": "code",
    "id": "GpEJqpUa3Swa",
    "outputId": "2fd97c72-04c3-434e-f936-4956e0268a85"
   },
   "outputs": [
    {
     "data": {
      "text/html": [
       "<div>\n",
       "<style scoped>\n",
       "    .dataframe tbody tr th:only-of-type {\n",
       "        vertical-align: middle;\n",
       "    }\n",
       "\n",
       "    .dataframe tbody tr th {\n",
       "        vertical-align: top;\n",
       "    }\n",
       "\n",
       "    .dataframe thead th {\n",
       "        text-align: right;\n",
       "    }\n",
       "</style>\n",
       "<table border=\"1\" class=\"dataframe\">\n",
       "  <thead>\n",
       "    <tr style=\"text-align: right;\">\n",
       "      <th></th>\n",
       "      <th>ReviewID</th>\n",
       "      <th>Review</th>\n",
       "    </tr>\n",
       "  </thead>\n",
       "  <tbody>\n",
       "    <tr>\n",
       "      <th>0</th>\n",
       "      <td>92876</td>\n",
       "      <td>Was good. Nothing like the original but I beli...</td>\n",
       "    </tr>\n",
       "    <tr>\n",
       "      <th>1</th>\n",
       "      <td>92877</td>\n",
       "      <td>I absolutely loved it! A wonderful rendition o...</td>\n",
       "    </tr>\n",
       "    <tr>\n",
       "      <th>2</th>\n",
       "      <td>92878</td>\n",
       "      <td>I love the movie! Good job director! \\nI appre...</td>\n",
       "    </tr>\n",
       "    <tr>\n",
       "      <th>3</th>\n",
       "      <td>92879</td>\n",
       "      <td>GREAT MOVIE!!  Same as the original, but the c...</td>\n",
       "    </tr>\n",
       "    <tr>\n",
       "      <th>4</th>\n",
       "      <td>92880</td>\n",
       "      <td>Realistic.   Fantastic special effects</td>\n",
       "    </tr>\n",
       "  </tbody>\n",
       "</table>\n",
       "</div>"
      ],
      "text/plain": [
       "   ReviewID                                             Review\n",
       "0     92876  Was good. Nothing like the original but I beli...\n",
       "1     92877  I absolutely loved it! A wonderful rendition o...\n",
       "2     92878  I love the movie! Good job director! \\nI appre...\n",
       "3     92879  GREAT MOVIE!!  Same as the original, but the c...\n",
       "4     92880             Realistic.   Fantastic special effects"
      ]
     },
     "execution_count": 152,
     "metadata": {
      "tags": []
     },
     "output_type": "execute_result"
    }
   ],
   "source": [
    "reviews_test.head()"
   ]
  },
  {
   "cell_type": "code",
   "execution_count": 0,
   "metadata": {
    "colab": {},
    "colab_type": "code",
    "id": "rGKv46Tx0mM3"
   },
   "outputs": [],
   "source": [
    "import re\n",
    "\n",
    "REPLACE_NO_SPACE = re.compile(\"[.;:!\\'?,\\\"()\\[\\]]\")\n",
    "REPLACE_WITH_SPACE = re.compile(\"(<br\\s*/><br\\s*/>)|(\\-)|(\\/)\")\n",
    "\n",
    "def preprocess_reviews(reviews):\n",
    "    reviews = [REPLACE_NO_SPACE.sub(\"\", line.lower()) for line in reviews]\n",
    "    reviews = [REPLACE_WITH_SPACE.sub(\" \", line) for line in reviews]\n",
    "    \n",
    "    return reviews\n",
    "\n",
    "reviews_train_clean = preprocess_reviews(reviews_train['Review'])\n",
    "reviews_test_clean = preprocess_reviews(reviews_test['Review'])"
   ]
  },
  {
   "cell_type": "code",
   "execution_count": 0,
   "metadata": {
    "colab": {},
    "colab_type": "code",
    "id": "P2PXjAZ20mKq"
   },
   "outputs": [],
   "source": [
    "\n",
    "from sklearn.feature_extraction.text import CountVectorizer\n",
    "\n",
    "cv = CountVectorizer(binary=True)\n",
    "cv.fit(reviews_train_clean)\n",
    "X = cv.transform(reviews_train_clean)\n",
    "X_test = cv.transform(reviews_test_clean)"
   ]
  },
  {
   "cell_type": "code",
   "execution_count": 263,
   "metadata": {
    "colab": {
     "base_uri": "https://localhost:8080/",
     "height": 173
    },
    "colab_type": "code",
    "id": "BbQcKYoo0mJD",
    "outputId": "4c7c3d61-238d-4cef-d278-bd0f89b1a61b"
   },
   "outputs": [
    {
     "name": "stderr",
     "output_type": "stream",
     "text": [
      "/usr/local/lib/python3.6/dist-packages/sklearn/linear_model/logistic.py:432: FutureWarning: Default solver will be changed to 'lbfgs' in 0.22. Specify a solver to silence this warning.\n",
      "  FutureWarning)\n"
     ]
    },
    {
     "name": "stdout",
     "output_type": "stream",
     "text": [
      "Accuracy for C=0.01: 0.756\n",
      "Accuracy for C=0.05: 0.7826666666666666\n",
      "Accuracy for C=0.25: 0.796\n",
      "Accuracy for C=0.5: 0.796\n",
      "Accuracy for C=1: 0.7946666666666666\n",
      "Accuracy for C=1.5: 0.7906666666666666\n"
     ]
    }
   ],
   "source": [
    "from sklearn.linear_model import LogisticRegression\n",
    "\n",
    "from sklearn.model_selection import train_test_split\n",
    "\n",
    "\n",
    "\n",
    "X_train, X_val, y_train, y_val = train_test_split(\n",
    "    X, reviews_train['sentiment'], train_size = 0.75\n",
    ")\n",
    "\n",
    "for c in [0.01, 0.05, 0.25, 0.5, 1, 1.5]:\n",
    "    \n",
    "    lr = LogisticRegression(C=c)\n",
    "    lr.fit(X_train, y_train)\n",
    "    print (\"Accuracy for C=%s: %s\" \n",
    "           % (c, accuracy_score(y_val, lr.predict(X_val))))\n",
    "    \n"
   ]
  },
  {
   "cell_type": "code",
   "execution_count": 0,
   "metadata": {
    "colab": {},
    "colab_type": "code",
    "id": "tfqHiu6N0mFI"
   },
   "outputs": [],
   "source": []
  },
  {
   "cell_type": "code",
   "execution_count": 0,
   "metadata": {
    "colab": {},
    "colab_type": "code",
    "id": "wkN487p70mDA"
   },
   "outputs": [],
   "source": [
    "from nltk.corpus import stopwords\n",
    "\n",
    "english_stop_words = stopwords.words('english')\n",
    "def remove_stop_words(corpus):\n",
    "    removed_stop_words = []\n",
    "    for review in corpus:\n",
    "        removed_stop_words.append(\n",
    "            ' '.join([word for word in review.split() \n",
    "                      if word not in english_stop_words])\n",
    "        )\n",
    "    return removed_stop_words\n",
    "\n",
    "no_stop_words = remove_stop_words(reviews_train_clean)"
   ]
  },
  {
   "cell_type": "code",
   "execution_count": 0,
   "metadata": {
    "colab": {},
    "colab_type": "code",
    "id": "Y-W9h1jR0mBL"
   },
   "outputs": [],
   "source": [
    "def get_stemmed_text(corpus):\n",
    "    from nltk.stem.porter import PorterStemmer\n",
    "    stemmer = PorterStemmer()\n",
    "    return [' '.join([stemmer.stem(word) for word in review.split()]) for review in corpus]\n",
    "\n",
    "stemmed_reviews = get_stemmed_text(reviews_train_clean)"
   ]
  },
  {
   "cell_type": "code",
   "execution_count": 0,
   "metadata": {
    "colab": {},
    "colab_type": "code",
    "id": "3mgXujET0l-x"
   },
   "outputs": [],
   "source": [
    "def get_lemmatized_text(corpus):\n",
    "    from nltk.stem import WordNetLemmatizer\n",
    "    lemmatizer = WordNetLemmatizer()\n",
    "    return [' '.join([lemmatizer.lemmatize(word) for word in review.split()]) for review in corpus]\n",
    "\n",
    "lemmatized_reviews = get_lemmatized_text(reviews_train_clean)"
   ]
  },
  {
   "cell_type": "code",
   "execution_count": 318,
   "metadata": {
    "colab": {
     "base_uri": "https://localhost:8080/",
     "height": 190
    },
    "colab_type": "code",
    "id": "Hx1AyzWE0l9Y",
    "outputId": "be90e8ce-b769-4658-8b83-2a3b327ce74c"
   },
   "outputs": [
    {
     "name": "stderr",
     "output_type": "stream",
     "text": [
      "/usr/local/lib/python3.6/dist-packages/sklearn/linear_model/logistic.py:432: FutureWarning: Default solver will be changed to 'lbfgs' in 0.22. Specify a solver to silence this warning.\n",
      "  FutureWarning)\n"
     ]
    },
    {
     "name": "stdout",
     "output_type": "stream",
     "text": [
      "Accuracy for C=0.01: 0.76\n",
      "Accuracy for C=0.05: 0.7986666666666666\n",
      "Accuracy for C=0.25: 0.82\n",
      "Accuracy for C=0.5: 0.8213333333333334\n",
      "Accuracy for C=1: 0.8293333333333334\n",
      "Accuracy for C=1.5: 0.8266666666666667\n",
      "Accuracy for C=2: 0.824\n"
     ]
    }
   ],
   "source": [
    "from sklearn.feature_extraction.text import CountVectorizer\n",
    "from sklearn.linear_model import LogisticRegression\n",
    "from sklearn.metrics import accuracy_score\n",
    "from sklearn.model_selection import train_test_split\n",
    "\n",
    "ngram_vectorizer = CountVectorizer(binary=True, ngram_range=(1, 2))\n",
    "ngram_vectorizer.fit(reviews_train_clean)\n",
    "X = ngram_vectorizer.transform(reviews_train_clean)\n",
    "X_test = ngram_vectorizer.transform(reviews_test_clean)\n",
    "\n",
    "X_train, X_val, y_train, y_val = train_test_split(\n",
    "    X, reviews_train['sentiment'], train_size = 0.75\n",
    ")\n",
    "\n",
    "for c in [0.01, 0.05, 0.25, 0.5, 1, 1.5, 2]:\n",
    "    \n",
    "    lr = LogisticRegression(C=c)\n",
    "    lr.fit(X_train, y_train)\n",
    "    print (\"Accuracy for C=%s: %s\" \n",
    "           % (c, accuracy_score(y_val, lr.predict(X_val))))"
   ]
  },
  {
   "cell_type": "code",
   "execution_count": 251,
   "metadata": {
    "colab": {
     "base_uri": "https://localhost:8080/",
     "height": 88
    },
    "colab_type": "code",
    "id": "AElLzhin-kbh",
    "outputId": "14433dbc-2085-4bc4-df4f-46ed95f3ef64"
   },
   "outputs": [
    {
     "name": "stderr",
     "output_type": "stream",
     "text": [
      "/usr/local/lib/python3.6/dist-packages/sklearn/linear_model/logistic.py:432: FutureWarning: Default solver will be changed to 'lbfgs' in 0.22. Specify a solver to silence this warning.\n",
      "  FutureWarning)\n"
     ]
    },
    {
     "data": {
      "text/plain": [
       "array([0, 0, 0, ..., 0, 0, 1])"
      ]
     },
     "execution_count": 251,
     "metadata": {
      "tags": []
     },
     "output_type": "execute_result"
    }
   ],
   "source": [
    "final_ngram = LogisticRegression(C=1.5)\n",
    "final_ngram.fit(X, reviews_train['sentiment'])\n",
    "final_ngram.predict(X_test)"
   ]
  },
  {
   "cell_type": "code",
   "execution_count": 309,
   "metadata": {
    "colab": {
     "base_uri": "https://localhost:8080/",
     "height": 190
    },
    "colab_type": "code",
    "id": "okc8UWXH0l6_",
    "outputId": "a7f11168-15d1-4edd-fd00-c8a57c0bb80c"
   },
   "outputs": [
    {
     "name": "stdout",
     "output_type": "stream",
     "text": [
      "Accuracy for C=0.01: 0.7413333333333333\n",
      "Accuracy for C=0.05: 0.7733333333333333\n",
      "Accuracy for C=0.25: 0.776\n",
      "Accuracy for C=0.5: 0.7826666666666666\n",
      "Accuracy for C=1: 0.7866666666666666\n",
      "Accuracy for C=1.5: 0.7893333333333333\n",
      "Accuracy for C=2: 0.7853333333333333\n"
     ]
    },
    {
     "name": "stderr",
     "output_type": "stream",
     "text": [
      "/usr/local/lib/python3.6/dist-packages/sklearn/linear_model/logistic.py:432: FutureWarning: Default solver will be changed to 'lbfgs' in 0.22. Specify a solver to silence this warning.\n",
      "  FutureWarning)\n"
     ]
    }
   ],
   "source": [
    "from sklearn.linear_model import LogisticRegression\n",
    "from sklearn.metrics import accuracy_score\n",
    "from sklearn.model_selection import train_test_split\n",
    "\n",
    "wc_vectorizer = CountVectorizer(binary=False)\n",
    "wc_vectorizer.fit(reviews_train_clean)\n",
    "X = wc_vectorizer.transform(reviews_train_clean)\n",
    "X_test = wc_vectorizer.transform(reviews_test_clean)\n",
    "\n",
    "X_train, X_val, y_train, y_val = train_test_split(\n",
    "    X, reviews_train['sentiment'], train_size = 0.75, \n",
    ")\n",
    "\n",
    "for c in [0.01, 0.05, 0.25, 0.5, 1, 1.5, 2]:\n",
    "    \n",
    "    lr = LogisticRegression(C=c)\n",
    "    lr.fit(X_train, y_train)\n",
    "    print (\"Accuracy for C=%s: %s\" \n",
    "           % (c, accuracy_score(y_val, lr.predict(X_val))))\n"
   ]
  },
  {
   "cell_type": "code",
   "execution_count": 267,
   "metadata": {
    "colab": {
     "base_uri": "https://localhost:8080/",
     "height": 71
    },
    "colab_type": "code",
    "id": "skqFWDGu-Ih_",
    "outputId": "fb1193eb-450b-461e-affb-700a0867a6cf"
   },
   "outputs": [
    {
     "name": "stderr",
     "output_type": "stream",
     "text": [
      "/usr/local/lib/python3.6/dist-packages/sklearn/linear_model/logistic.py:432: FutureWarning: Default solver will be changed to 'lbfgs' in 0.22. Specify a solver to silence this warning.\n",
      "  FutureWarning)\n"
     ]
    }
   ],
   "source": [
    "final_wc = LogisticRegression(C=1)\n",
    "final_wc.fit(X, reviews_train['sentiment'])\n",
    "result_wc = final_wc.predict(X_test)"
   ]
  },
  {
   "cell_type": "code",
   "execution_count": 271,
   "metadata": {
    "colab": {
     "base_uri": "https://localhost:8080/",
     "height": 235
    },
    "colab_type": "code",
    "id": "9Y3x3XGp_RnK",
    "outputId": "300f63b4-202b-41d9-9ecf-1a96661ebacc"
   },
   "outputs": [
    {
     "data": {
      "text/html": [
       "<div>\n",
       "<style scoped>\n",
       "    .dataframe tbody tr th:only-of-type {\n",
       "        vertical-align: middle;\n",
       "    }\n",
       "\n",
       "    .dataframe tbody tr th {\n",
       "        vertical-align: top;\n",
       "    }\n",
       "\n",
       "    .dataframe thead th {\n",
       "        text-align: right;\n",
       "    }\n",
       "</style>\n",
       "<table border=\"1\" class=\"dataframe\">\n",
       "  <thead>\n",
       "    <tr style=\"text-align: right;\">\n",
       "      <th></th>\n",
       "      <th>sentiment</th>\n",
       "    </tr>\n",
       "    <tr>\n",
       "      <th>ReviewID</th>\n",
       "      <th></th>\n",
       "    </tr>\n",
       "  </thead>\n",
       "  <tbody>\n",
       "    <tr>\n",
       "      <th>92876</th>\n",
       "      <td>0</td>\n",
       "    </tr>\n",
       "    <tr>\n",
       "      <th>92877</th>\n",
       "      <td>0</td>\n",
       "    </tr>\n",
       "    <tr>\n",
       "      <th>92878</th>\n",
       "      <td>0</td>\n",
       "    </tr>\n",
       "    <tr>\n",
       "      <th>92879</th>\n",
       "      <td>0</td>\n",
       "    </tr>\n",
       "    <tr>\n",
       "      <th>92880</th>\n",
       "      <td>0</td>\n",
       "    </tr>\n",
       "  </tbody>\n",
       "</table>\n",
       "</div>"
      ],
      "text/plain": [
       "          sentiment\n",
       "ReviewID           \n",
       "92876             0\n",
       "92877             0\n",
       "92878             0\n",
       "92879             0\n",
       "92880             0"
      ]
     },
     "execution_count": 271,
     "metadata": {
      "tags": []
     },
     "output_type": "execute_result"
    }
   ],
   "source": [
    "sub_wc = test_df.loc[:, ['ReviewID']].join(pd.DataFrame(result_wc))\n",
    "sub_wc.columns = ['ReviewID', 'sentiment']\n",
    "sub_wc = sub_wc.set_index('ReviewID')\n",
    "sub_wc.head()"
   ]
  },
  {
   "cell_type": "code",
   "execution_count": 0,
   "metadata": {
    "colab": {},
    "colab_type": "code",
    "id": "Zlgc5Igv_C8q"
   },
   "outputs": [],
   "source": [
    "from google.colab import files\n",
    "sub_wc.to_csv('sub_wc.csv') \n",
    "files.download('sub_wc.csv')"
   ]
  },
  {
   "cell_type": "code",
   "execution_count": 0,
   "metadata": {
    "colab": {},
    "colab_type": "code",
    "id": "jTtRlMZP_Mll"
   },
   "outputs": [],
   "source": []
  },
  {
   "cell_type": "code",
   "execution_count": 348,
   "metadata": {
    "colab": {
     "base_uri": "https://localhost:8080/",
     "height": 190
    },
    "colab_type": "code",
    "id": "do1GY4-c0l5V",
    "outputId": "0ade1634-4068-4c9b-f01a-4549fd07f43d"
   },
   "outputs": [
    {
     "name": "stdout",
     "output_type": "stream",
     "text": [
      "Accuracy for C=0.5: 0.7813333333333333\n",
      "Accuracy for C=1: 0.8026666666666666\n",
      "Accuracy for C=1.5: 0.812\n",
      "Accuracy for C=2: 0.812\n",
      "Accuracy for C=2.5: 0.8186666666666667\n",
      "Accuracy for C=2.7: 0.8173333333333334\n",
      "Accuracy for C=3: 0.82\n"
     ]
    },
    {
     "name": "stderr",
     "output_type": "stream",
     "text": [
      "/usr/local/lib/python3.6/dist-packages/sklearn/linear_model/logistic.py:432: FutureWarning: Default solver will be changed to 'lbfgs' in 0.22. Specify a solver to silence this warning.\n",
      "  FutureWarning)\n"
     ]
    }
   ],
   "source": [
    "from sklearn.feature_extraction.text import TfidfVectorizer\n",
    "from sklearn.linear_model import LogisticRegression\n",
    "from sklearn.metrics import accuracy_score\n",
    "from sklearn.model_selection import train_test_split\n",
    "\n",
    "tfidf_vectorizer = TfidfVectorizer()\n",
    "tfidf_vectorizer.fit(reviews_train_clean)\n",
    "X = tfidf_vectorizer.transform(reviews_train_clean)\n",
    "X_test = tfidf_vectorizer.transform(reviews_test_clean)\n",
    "\n",
    "X_train, X_val, y_train, y_val = train_test_split(\n",
    "    X, reviews_train['sentiment'], train_size = 0.75\n",
    ")\n",
    "\n",
    "for c in [0.5, 1, 1.5, 2, 2.5, 2.7, 3]:\n",
    "    \n",
    "    lr = LogisticRegression(C=c)\n",
    "    lr.fit(X_train, y_train)\n",
    "    print (\"Accuracy for C=%s: %s\" \n",
    "           % (c, accuracy_score(y_val, lr.predict(X_val))))\n"
   ]
  },
  {
   "cell_type": "code",
   "execution_count": 349,
   "metadata": {
    "colab": {
     "base_uri": "https://localhost:8080/",
     "height": 71
    },
    "colab_type": "code",
    "id": "yN25OUA80l3E",
    "outputId": "0c0d7d45-85bd-441d-a65c-a2de37defccd"
   },
   "outputs": [
    {
     "name": "stderr",
     "output_type": "stream",
     "text": [
      "/usr/local/lib/python3.6/dist-packages/sklearn/linear_model/logistic.py:432: FutureWarning: Default solver will be changed to 'lbfgs' in 0.22. Specify a solver to silence this warning.\n",
      "  FutureWarning)\n"
     ]
    }
   ],
   "source": [
    "final_tfidf = LogisticRegression(C=2.5)\n",
    "final_tfidf.fit(X, reviews_train['sentiment'])\n",
    "result_tf = final_tfidf.predict(X_test)"
   ]
  },
  {
   "cell_type": "code",
   "execution_count": 350,
   "metadata": {
    "colab": {
     "base_uri": "https://localhost:8080/",
     "height": 235
    },
    "colab_type": "code",
    "id": "oQ-OxLOi9yrB",
    "outputId": "ebf80b01-bdf1-4c62-a92b-85bc8e258e06"
   },
   "outputs": [
    {
     "data": {
      "text/html": [
       "<div>\n",
       "<style scoped>\n",
       "    .dataframe tbody tr th:only-of-type {\n",
       "        vertical-align: middle;\n",
       "    }\n",
       "\n",
       "    .dataframe tbody tr th {\n",
       "        vertical-align: top;\n",
       "    }\n",
       "\n",
       "    .dataframe thead th {\n",
       "        text-align: right;\n",
       "    }\n",
       "</style>\n",
       "<table border=\"1\" class=\"dataframe\">\n",
       "  <thead>\n",
       "    <tr style=\"text-align: right;\">\n",
       "      <th></th>\n",
       "      <th>sentiment</th>\n",
       "    </tr>\n",
       "    <tr>\n",
       "      <th>ReviewID</th>\n",
       "      <th></th>\n",
       "    </tr>\n",
       "  </thead>\n",
       "  <tbody>\n",
       "    <tr>\n",
       "      <th>92876</th>\n",
       "      <td>0</td>\n",
       "    </tr>\n",
       "    <tr>\n",
       "      <th>92877</th>\n",
       "      <td>0</td>\n",
       "    </tr>\n",
       "    <tr>\n",
       "      <th>92878</th>\n",
       "      <td>0</td>\n",
       "    </tr>\n",
       "    <tr>\n",
       "      <th>92879</th>\n",
       "      <td>0</td>\n",
       "    </tr>\n",
       "    <tr>\n",
       "      <th>92880</th>\n",
       "      <td>0</td>\n",
       "    </tr>\n",
       "  </tbody>\n",
       "</table>\n",
       "</div>"
      ],
      "text/plain": [
       "          sentiment\n",
       "ReviewID           \n",
       "92876             0\n",
       "92877             0\n",
       "92878             0\n",
       "92879             0\n",
       "92880             0"
      ]
     },
     "execution_count": 350,
     "metadata": {
      "tags": []
     },
     "output_type": "execute_result"
    }
   ],
   "source": [
    "sub_tf = test_df.loc[:, ['ReviewID']].join(pd.DataFrame(result_tf))\n",
    "sub_tf.columns = ['ReviewID', 'sentiment']\n",
    "sub_tf = sub_tf.set_index('ReviewID')\n",
    "sub_tf.head()"
   ]
  },
  {
   "cell_type": "code",
   "execution_count": 0,
   "metadata": {
    "colab": {},
    "colab_type": "code",
    "id": "78gxxRzJEAt-"
   },
   "outputs": [],
   "source": [
    "from google.colab import files\n",
    "sub_tf.to_csv('sub_tf.csv') \n",
    "files.download('sub_tf.csv')"
   ]
  },
  {
   "cell_type": "code",
   "execution_count": 351,
   "metadata": {
    "colab": {
     "base_uri": "https://localhost:8080/",
     "height": 68
    },
    "colab_type": "code",
    "id": "eBZwZEVvEAoW",
    "outputId": "d6245373-cb51-4db5-9249-c87f75ebb336"
   },
   "outputs": [
    {
     "data": {
      "text/plain": [
       "0    974\n",
       "1    226\n",
       "Name: sentiment, dtype: int64"
      ]
     },
     "execution_count": 351,
     "metadata": {
      "tags": []
     },
     "output_type": "execute_result"
    }
   ],
   "source": [
    "sub_tf['sentiment'].value_counts()"
   ]
  },
  {
   "cell_type": "code",
   "execution_count": 0,
   "metadata": {
    "colab": {},
    "colab_type": "code",
    "id": "WRY7MIfzEAk8"
   },
   "outputs": [],
   "source": []
  },
  {
   "cell_type": "code",
   "execution_count": 287,
   "metadata": {
    "colab": {
     "base_uri": "https://localhost:8080/",
     "height": 119
    },
    "colab_type": "code",
    "id": "w5zKImTL0lzV",
    "outputId": "7a900b25-ee60-477f-cce0-a3d24686afd1"
   },
   "outputs": [
    {
     "name": "stdout",
     "output_type": "stream",
     "text": [
      "Accuracy for C=0.01: 0.8306666666666667\n",
      "Accuracy for C=0.05: 0.8346666666666667\n",
      "Accuracy for C=0.25: 0.8413333333333334\n",
      "Accuracy for C=0.5: 0.8333333333333334\n",
      "Accuracy for C=1: 0.8293333333333334\n",
      "Accuracy for C=1.4: 0.828\n"
     ]
    }
   ],
   "source": [
    "from sklearn.feature_extraction.text import CountVectorizer\n",
    "from sklearn.svm import LinearSVC\n",
    "from sklearn.metrics import accuracy_score\n",
    "from sklearn.model_selection import train_test_split\n",
    "\n",
    "ngram_vectorizer = CountVectorizer(binary=True, ngram_range=(1, 2))\n",
    "ngram_vectorizer.fit(reviews_train_clean)\n",
    "X = ngram_vectorizer.transform(reviews_train_clean)\n",
    "X_test = ngram_vectorizer.transform(reviews_test_clean)\n",
    "\n",
    "X_train, X_val, y_train, y_val = train_test_split(\n",
    "    X, reviews_train['sentiment'], train_size = 0.75\n",
    ")\n",
    "\n",
    "for c in [0.01, 0.05, 0.25, 0.5, 1, 1.4]:\n",
    "    \n",
    "    svm = LinearSVC(C=c)\n",
    "    svm.fit(X_train, y_train)\n",
    "    print (\"Accuracy for C=%s: %s\" \n",
    "           % (c, accuracy_score(y_val, svm.predict(X_val))))\n"
   ]
  },
  {
   "cell_type": "markdown",
   "metadata": {
    "colab_type": "text",
    "id": "FUlqrOhW75m6"
   },
   "source": [
    "final_svm_ngram = LinearSVC(C=0.01)\n",
    "final_svm_ngram.fit(X, reviews_train['sentiment'])\n",
    "print (\"Final Accuracy: %s\" \n",
    "       % accuracy_score(target, final_svm_ngram.predict(X_test)))"
   ]
  },
  {
   "cell_type": "code",
   "execution_count": 281,
   "metadata": {
    "colab": {
     "base_uri": "https://localhost:8080/",
     "height": 136
    },
    "colab_type": "code",
    "id": "t5gjcxpn76Xf",
    "outputId": "3abc3ccb-55e2-4c8d-92de-2e763c596442"
   },
   "outputs": [
    {
     "name": "stdout",
     "output_type": "stream",
     "text": [
      "Accuracy for C=0.001: 0.7586666666666667\n",
      "Accuracy for C=0.005: 0.8146666666666667\n",
      "Accuracy for C=0.01: 0.828\n",
      "Accuracy for C=0.05: 0.832\n",
      "Accuracy for C=0.1: 0.8253333333333334\n",
      "Accuracy for C=1.5: 0.812\n",
      "Accuracy for C=2: 0.812\n"
     ]
    }
   ],
   "source": [
    "from sklearn.feature_extraction.text import CountVectorizer\n",
    "from sklearn.model_selection import train_test_split\n",
    "from sklearn.metrics import accuracy_score\n",
    "from sklearn.svm import LinearSVC\n",
    "\n",
    "\n",
    "stop_words = ['in', 'of', 'at', 'a', 'the']\n",
    "ngram_vectorizer = CountVectorizer(binary=True, ngram_range=(1, 3), stop_words=stop_words)\n",
    "ngram_vectorizer.fit(reviews_train_clean)\n",
    "X = ngram_vectorizer.transform(reviews_train_clean)\n",
    "X_test = ngram_vectorizer.transform(reviews_test_clean)\n",
    "\n",
    "X_train, X_val, y_train, y_val = train_test_split(\n",
    "    X, reviews_train['sentiment'], train_size = 0.75\n",
    ")\n",
    "\n",
    "for c in [0.001, 0.005, 0.01, 0.05, 0.1, 1.5, 2]:\n",
    "    \n",
    "    svm = LinearSVC(C=c)\n",
    "    svm.fit(X_train, y_train)\n",
    "    print (\"Accuracy for C=%s: %s\" \n",
    "           % (c, accuracy_score(y_val, svm.predict(X_val))))\n",
    "    \n",
    "    \n",
    "\n"
   ]
  },
  {
   "cell_type": "code",
   "execution_count": 204,
   "metadata": {
    "colab": {
     "base_uri": "https://localhost:8080/",
     "height": 34
    },
    "colab_type": "code",
    "id": "p_6l-k1n8QqS",
    "outputId": "a2584146-b863-493f-e96b-b869e0e9d9c9"
   },
   "outputs": [
    {
     "data": {
      "text/plain": [
       "array([0, 0, 0, ..., 0, 0, 1])"
      ]
     },
     "execution_count": 204,
     "metadata": {
      "tags": []
     },
     "output_type": "execute_result"
    }
   ],
   "source": [
    "final = LinearSVC(C=0.1)\n",
    "final.fit(X, reviews_train['sentiment'])\n",
    "final.predict(X_test)"
   ]
  }
 ],
 "metadata": {
  "colab": {
   "collapsed_sections": [],
   "name": "Lion_king_EDA_hackathon",
   "provenance": [],
   "version": "0.3.2"
  },
  "kernelspec": {
   "display_name": "Python 3",
   "language": "python",
   "name": "python3"
  },
  "language_info": {
   "codemirror_mode": {
    "name": "ipython",
    "version": 3
   },
   "file_extension": ".py",
   "mimetype": "text/x-python",
   "name": "python",
   "nbconvert_exporter": "python",
   "pygments_lexer": "ipython3",
   "version": "3.8.3"
  }
 },
 "nbformat": 4,
 "nbformat_minor": 1
}
